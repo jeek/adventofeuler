{
 "cells": [
  {
   "cell_type": "code",
   "execution_count": 1,
   "metadata": {},
   "outputs": [],
   "source": [
    "assert True"
   ]
  },
  {
   "attachments": {},
   "cell_type": "markdown",
   "metadata": {},
   "source": [
    "# Day 1 Part 1\n",
    "\n",
    "--- Day 1: Not Quite Lisp ---\n",
    "\n",
    "Santa was hoping for a white Christmas, but his weather machine's \"snow\" function is powered by stars, and he's fresh out! To save Christmas, he needs you to collect fifty stars by December 25th.\n",
    "\n",
    "Collect stars by helping Santa solve puzzles. Two puzzles will be made available on each day in the Advent calendar; the second puzzle is unlocked when you complete the first. Each puzzle grants one star. Good luck!\n",
    "\n",
    "Here's an easy puzzle to warm you up.\n",
    "\n",
    "Santa is trying to deliver presents in a large apartment building, but he can't find the right floor - the directions he got are a little confusing. He starts on the ground floor (floor 0) and then follows the instructions one character at a time.\n",
    "\n",
    "An opening parenthesis, (, means he should go up one floor, and a closing parenthesis, ), means he should go down one floor.\n",
    "\n",
    "The apartment building is very tall, and the basement is very deep; he will never find the top or bottom floors.\n",
    "\n",
    "For example:\n",
    "\n",
    "(()) and ()() both result in floor 0.\n",
    "\n",
    "((( and (()(()( both result in floor 3.\n",
    "\n",
    "))((((( also results in floor 3.\n",
    "\n",
    "()) and ))( both result in floor -1 (the first basement level).\n",
    "\n",
    "))) and )())()) both result in floor -3.\n",
    "\n",
    "To what floor do the instructions take Santa?"
   ]
  },
  {
   "cell_type": "code",
   "execution_count": 2,
   "metadata": {},
   "outputs": [],
   "source": [
    "def day01part1(data):\n",
    "    return data.count(\"(\") - data.count(\")\")\n",
    "\n",
    "assert day01part1(\"(())\") == 0, \"Bad test case in day 1 part 1\"\n",
    "assert day01part1(\"()()\") == 0, \"Bad test case in day 1 part 1\"\n",
    "assert day01part1(\"(((\") == 3, \"Bad test case in day 1 part 1\"\n",
    "assert day01part1(\"(()(()(\") == 3, \"Bad test case in day 1 part 1\"\n",
    "assert day01part1(\"))(((((\") == 3, \"Bad test case in day 1 part 1\"\n",
    "assert day01part1(\"())\") == -1, \"Bad test case in day 1 part 1\"\n",
    "assert day01part1(\"))(\") == -1, \"Bad test case in day 1 part 1\"\n",
    "assert day01part1(\")))\") == -3, \"Bad test case in day 1 part 1\"\n",
    "assert day01part1(\")())())\") == -3, \"Bad test case in day 1 part 1\"\n",
    "assert day01part1(open(\"2015-01.txt\").read()) == 74, \"Bad solution to day 1 part 1\""
   ]
  },
  {
   "attachments": {},
   "cell_type": "markdown",
   "metadata": {},
   "source": [
    "-- Part Two ---\n",
    "\n",
    "Now, given the same instructions, find the position of the first character that causes him to enter the basement (floor -1). The first character in the instructions has position 1, the second character has position 2, and so on.\n",
    "\n",
    "For example:\n",
    "\n",
    ") causes him to enter the basement at character position 1.\n",
    "\n",
    "()()) causes him to enter the basement at character position 5.\n",
    "\n",
    "What is the position of the character that causes Santa to first enter the basement?"
   ]
  },
  {
   "cell_type": "code",
   "execution_count": 3,
   "metadata": {},
   "outputs": [],
   "source": [
    "def day01part2(data):\n",
    "    i = 0\n",
    "    while i < len(data) and data[:i].count(\"(\") >= data[:i].count(\")\"):\n",
    "        i += 1\n",
    "    return i\n",
    "\n",
    "assert day01part2(\")\") == 1, \"Bad test case in day 1 part 2\"\n",
    "assert day01part2(\"()())\") == 5, \"Bad test case in day 1 part 2\"\n",
    "assert day01part2(open(\"2015-01.txt\").read()) == 1795, \"Bad solution to day 1 part 2\""
   ]
  }
 ],
 "metadata": {
  "kernelspec": {
   "display_name": "Python 3",
   "language": "python",
   "name": "python3"
  },
  "language_info": {
   "codemirror_mode": {
    "name": "ipython",
    "version": 3
   },
   "file_extension": ".py",
   "mimetype": "text/x-python",
   "name": "python",
   "nbconvert_exporter": "python",
   "pygments_lexer": "ipython3",
   "version": "3.11.1"
  },
  "orig_nbformat": 4,
  "vscode": {
   "interpreter": {
    "hash": "86ef22fb7ff159b7645d100e504dc02a1cfdc6aef20097a00a7edb5b3f9c16c8"
   }
  }
 },
 "nbformat": 4,
 "nbformat_minor": 2
}
