{
 "cells": [
  {
   "cell_type": "code",
   "execution_count": 1,
   "metadata": {},
   "outputs": [],
   "source": [
    "assert True"
   ]
  },
  {
   "attachments": {},
   "cell_type": "markdown",
   "metadata": {},
   "source": [
    "# Day 1 Part 1\n",
    "\n",
    "--- Day 1: Not Quite Lisp ---\n",
    "\n",
    "Santa was hoping for a white Christmas, but his weather machine's \"snow\" function is powered by stars, and he's fresh out! To save Christmas, he needs you to collect fifty stars by December 25th.\n",
    "\n",
    "Collect stars by helping Santa solve puzzles. Two puzzles will be made available on each day in the Advent calendar; the second puzzle is unlocked when you complete the first. Each puzzle grants one star. Good luck!\n",
    "\n",
    "Here's an easy puzzle to warm you up.\n",
    "\n",
    "Santa is trying to deliver presents in a large apartment building, but he can't find the right floor - the directions he got are a little confusing. He starts on the ground floor (floor 0) and then follows the instructions one character at a time.\n",
    "\n",
    "An opening parenthesis, (, means he should go up one floor, and a closing parenthesis, ), means he should go down one floor.\n",
    "\n",
    "The apartment building is very tall, and the basement is very deep; he will never find the top or bottom floors.\n",
    "\n",
    "For example:\n",
    "\n",
    "(()) and ()() both result in floor 0.\n",
    "\n",
    "((( and (()(()( both result in floor 3.\n",
    "\n",
    "))((((( also results in floor 3.\n",
    "\n",
    "()) and ))( both result in floor -1 (the first basement level).\n",
    "\n",
    "))) and )())()) both result in floor -3.\n",
    "\n",
    "To what floor do the instructions take Santa?"
   ]
  },
  {
   "cell_type": "code",
   "execution_count": 2,
   "metadata": {},
   "outputs": [
    {
     "name": "stdout",
     "output_type": "stream",
     "text": [
      "74\n"
     ]
    }
   ],
   "source": [
    "def day01part1(data):\n",
    "    return data.count(\"(\") - data.count(\")\")\n",
    "\n",
    "assert day01part1(\"(())\") == 0, \"Bad test case in day 1 part 1\"\n",
    "assert day01part1(\"()()\") == 0, \"Bad test case in day 1 part 1\"\n",
    "assert day01part1(\"(((\") == 3, \"Bad test case in day 1 part 1\"\n",
    "assert day01part1(\"(()(()(\") == 3, \"Bad test case in day 1 part 1\"\n",
    "assert day01part1(\"))(((((\") == 3, \"Bad test case in day 1 part 1\"\n",
    "assert day01part1(\"())\") == -1, \"Bad test case in day 1 part 1\"\n",
    "assert day01part1(\"))(\") == -1, \"Bad test case in day 1 part 1\"\n",
    "assert day01part1(\")))\") == -3, \"Bad test case in day 1 part 1\"\n",
    "assert day01part1(\")())())\") == -3, \"Bad test case in day 1 part 1\"\n",
    "print(day01part1(open(\"2015-01.txt\").read()))"
   ]
  },
  {
   "attachments": {},
   "cell_type": "markdown",
   "metadata": {},
   "source": [
    "# -- Part Two ---\n",
    "\n",
    "Now, given the same instructions, find the position of the first character that causes him to enter the basement (floor -1). The first character in the instructions has position 1, the second character has position 2, and so on.\n",
    "\n",
    "For example:\n",
    "\n",
    ") causes him to enter the basement at character position 1.\n",
    "\n",
    "()()) causes him to enter the basement at character position 5.\n",
    "\n",
    "What is the position of the character that causes Santa to first enter the basement?"
   ]
  },
  {
   "cell_type": "code",
   "execution_count": 3,
   "metadata": {},
   "outputs": [
    {
     "name": "stdout",
     "output_type": "stream",
     "text": [
      "1795\n"
     ]
    }
   ],
   "source": [
    "def day01part2(data):\n",
    "    i = 0\n",
    "    while i < len(data) and data[:i].count(\"(\") >= data[:i].count(\")\"):\n",
    "        i += 1\n",
    "    return i\n",
    "\n",
    "assert day01part2(\")\") == 1, \"Bad test case in day 1 part 2\"\n",
    "assert day01part2(\"()())\") == 5, \"Bad test case in day 1 part 2\"\n",
    "print(day01part2(open(\"2015-01.txt\").read()))"
   ]
  },
  {
   "attachments": {},
   "cell_type": "markdown",
   "metadata": {},
   "source": [
    "# Day 2\n",
    "\n",
    "--- Day 2: I Was Told There Would Be No Math ---\n",
    "\n",
    "The elves are running low on wrapping paper, and so they need to submit an order for more. They have a list of the dimensions (length l, width w, and height h) of each present, and only want to order exactly as much as they need.\n",
    "\n",
    "Fortunately, every present is a box (a perfect right rectangular prism), which makes calculating the required wrapping paper for each gift a little easier: find the surface area of the box, which is 2*l*w + 2*w*h + 2*h*l. The elves also need a little extra paper for each present: the area of the smallest side.\n",
    "\n",
    "For example:\n",
    "\n",
    "A present with dimensions 2x3x4 requires 2*6 + 2*12 + 2*8 = 52 square feet of wrapping paper plus 6 square feet of slack, for a total of 58 square feet.\n",
    "\n",
    "A present with dimensions 1x1x10 requires 2*1 + 2*10 + 2*10 = 42 square feet of wrapping paper plus 1 square foot of slack, for a total of 43 square feet.\n",
    "\n",
    "All numbers in the elves' list are in feet. How many total square feet of wrapping paper should they order?"
   ]
  },
  {
   "cell_type": "code",
   "execution_count": 4,
   "metadata": {},
   "outputs": [
    {
     "name": "stdout",
     "output_type": "stream",
     "text": [
      "1588178\n"
     ]
    }
   ],
   "source": [
    "def day02part1(data):\n",
    "    total = 0\n",
    "    for i in data.split(\"\\n\"):\n",
    "        a, b, c = sorted(int(j) for j in i.split(\"x\"))\n",
    "        total += 3 * a * b + 2 * b * c + 2 * a * c\n",
    "    return total\n",
    "\n",
    "assert day02part1(\"2x3x4\") == 58, \"Bad test case\"\n",
    "assert day02part1(\"1x1x10\") == 43, \"Bad test case\"\n",
    "print(day02part1(open(\"2015-02.txt\").read()))"
   ]
  },
  {
   "attachments": {},
   "cell_type": "markdown",
   "metadata": {},
   "source": [
    "# --- Part Two ---\n",
    "T\n",
    "he elves are also running low on ribbon. Ribbon is all the same width, so they only have to worry about the length they need to order, which they would again like to be exact.\n",
    "\n",
    "The ribbon required to wrap a present is the shortest distance around its sides, or the smallest perimeter of any one face. Each present also requires a bow made out of ribbon as well; the feet of ribbon required for the perfect bow is equal to the cubic feet of volume of the present. Don't ask how they tie the bow, though; they'll never tell.\n",
    "\n",
    "For example:\n",
    "\n",
    "A present with dimensions 2x3x4 requires 2+2+3+3 = 10 feet of ribbon to wrap the present plus 2*3*4 = 24 feet of ribbon for the bow, for a total of 34 feet.\n",
    "\n",
    "A present with dimensions 1x1x10 requires 1+1+1+1 = 4 feet of ribbon to wrap the present plus 1*1*10 = 10 feet of ribbon for the bow, for a total of 14 feet.\n",
    "\n",
    "How many total feet of ribbon should they order?"
   ]
  },
  {
   "cell_type": "code",
   "execution_count": 5,
   "metadata": {},
   "outputs": [
    {
     "name": "stdout",
     "output_type": "stream",
     "text": [
      "3783758\n"
     ]
    }
   ],
   "source": [
    "def day02part2(data):\n",
    "    total = 0\n",
    "    for i in data.split(\"\\n\"):\n",
    "        a, b, c = sorted(int(j) for j in i.split(\"x\"))\n",
    "        total += 2 * a + 2 * b + a * b * c\n",
    "    return total\n",
    "\n",
    "assert day02part2(\"2x3x4\") == 34, \"Bad test case\"\n",
    "assert day02part2(\"1x1x10\") == 14, \"Bad test case\"\n",
    "print(day02part2(open(\"2015-02.txt\").read()))"
   ]
  },
  {
   "attachments": {},
   "cell_type": "markdown",
   "metadata": {},
   "source": [
    "# Day 3\n",
    "\n",
    "--- Day 3: Perfectly Spherical Houses in a Vacuum ---\n",
    "\n",
    "Santa is delivering presents to an infinite two-dimensional grid of houses.\n",
    "\n",
    "He begins by delivering a present to the house at his starting location, and then an elf at the North Pole calls him via radio and tells him where to move next. Moves are always exactly one house to the north (^), south (v), east (>), or west (<). After each move, he delivers another present to the house at his new location.\n",
    "\n",
    "However, the elf back at the north pole has had a little too much eggnog, and so his directions are a little off, and Santa ends up visiting some houses more than once. How many houses receive at least one present?\n",
    "\n",
    "For example:\n",
    "\n",
    "\\> delivers presents to 2 houses: one at the starting location, and one to the east.\n",
    "\n",
    "^>v< delivers presents to 4 houses in a square, including twice to the house at his starting/ending location.\n",
    "\n",
    "^v^v^v^v^v delivers a bunch of presents to some very lucky children at only 2 houses."
   ]
  },
  {
   "cell_type": "code",
   "execution_count": 6,
   "metadata": {},
   "outputs": [
    {
     "name": "stdout",
     "output_type": "stream",
     "text": [
      "2592\n"
     ]
    }
   ],
   "source": [
    "import collections\n",
    "\n",
    "def day03part1(data):\n",
    "    x, y = 0, 0\n",
    "    rx, ry = 0, 0\n",
    "    giftmap = collections.defaultdict(lambda: 0)\n",
    "    giftmap[\"0,0\"] = 1\n",
    "    j = 0\n",
    "    while j < len(data):\n",
    "        i = data[j]\n",
    "        if i == \">\":\n",
    "            y += 1\n",
    "        if i == \"<\":\n",
    "            y -= 1\n",
    "        if i == \"^\":\n",
    "            x += 1\n",
    "        if i == \"v\":\n",
    "            x -= 1\n",
    "        giftmap[str(x)+\",\"+str(y)] += 1\n",
    "        j += 1\n",
    "    return len(giftmap.keys())\n",
    "\n",
    "assert day03part1(\">\") == 2, \"Bad test data\"\n",
    "assert day03part1(\"^>v<\") == 4, \"Bad test data\"\n",
    "assert day03part1(\"^v^v^v^v^v\") == 2, \"Bad test data\"\n",
    "print(day03part1(open(\"2015-03.txt\").read()))"
   ]
  },
  {
   "attachments": {},
   "cell_type": "markdown",
   "metadata": {},
   "source": [
    "# --- Part Two ---\n",
    "The next year, to speed up the process, Santa creates a robot version of himself, Robo-Santa, to deliver presents with him.\n",
    "\n",
    "Santa and Robo-Santa start at the same location (delivering two presents to the same starting house), then take turns moving based on instructions from the elf, who is eggnoggedly reading from the same script as the previous year.\n",
    "\n",
    "This year, how many houses receive at least one present?\n",
    "\n",
    "For example:\n",
    "\n",
    "^v delivers presents to 3 houses, because Santa goes north, and then Robo-Santa goes south.\n",
    "\n",
    "^>v< now delivers presents to 3 houses, and Santa and Robo-Santa end up back where they started.\n",
    "\n",
    "^v^v^v^v^v now delivers presents to 11 houses, with Santa going one direction and Robo-Santa going the other."
   ]
  },
  {
   "cell_type": "code",
   "execution_count": 7,
   "metadata": {},
   "outputs": [
    {
     "name": "stdout",
     "output_type": "stream",
     "text": [
      "2360\n"
     ]
    }
   ],
   "source": [
    "import collections\n",
    "\n",
    "def day03part2(data):\n",
    "    x, y = 0, 0\n",
    "    rx, ry = 0, 0\n",
    "    giftmap = collections.defaultdict(lambda: 0)\n",
    "    giftmap[\"0,0\"] = 1\n",
    "    j = 0\n",
    "    while j < len(data):\n",
    "        i = data[j]\n",
    "        if i == \">\":\n",
    "            y += 1\n",
    "        if i == \"<\":\n",
    "            y -= 1\n",
    "        if i == \"^\":\n",
    "            x += 1\n",
    "        if i == \"v\":\n",
    "            x -= 1\n",
    "        giftmap[str(x)+\",\"+str(y)] += 1\n",
    "        if j + 1 < len(data):\n",
    "            i = data[j+1]\n",
    "            if i == \">\":\n",
    "                ry += 1\n",
    "            if i == \"<\":\n",
    "                ry -= 1\n",
    "            if i == \"^\":\n",
    "                rx += 1\n",
    "            if i == \"v\":\n",
    "                rx -= 1\n",
    "            giftmap[str(rx)+\",\"+str(ry)] += 1\n",
    "        j += 2\n",
    "    return len(giftmap.keys())\n",
    "\n",
    "assert day03part2(\"^v\") == 3, \"Bad test data\"\n",
    "assert day03part2(\"^>v<\") == 3, \"Bad test data\"\n",
    "assert day03part2(\"^v^v^v^v^v\") == 11, \"Bad test data\"\n",
    "print(day03part2(open(\"2015-03.txt\").read()))"
   ]
  },
  {
   "attachments": {},
   "cell_type": "markdown",
   "metadata": {},
   "source": [
    "# Day 4\n",
    "\n",
    "--- Day 4: The Ideal Stocking Stuffer ---\n",
    "Santa needs help mining some AdventCoins (very similar to bitcoins) to use as gifts for all the economically forward-thinking little girls and boys.\n",
    "\n",
    "To do this, he needs to find MD5 hashes which, in hexadecimal, start with at least five zeroes. The input to the MD5 hash is some secret key (your puzzle input, given below) followed by a number in decimal. To mine AdventCoins, you must find Santa the lowest positive number (no leading zeroes: 1, 2, 3, ...) that produces such a hash.\n",
    "\n",
    "For example:\n",
    "\n",
    "If your secret key is abcdef, the answer is 609043, because the MD5 hash of abcdef609043 starts with five zeroes (000001dbbfa...), and it is the lowest such number to do so.\n",
    "\n",
    "If your secret key is pqrstuv, the lowest number it combines with to make an MD5 hash starting with five zeroes is 1048970; that is, the MD5 hash of pqrstuv1048970 looks like 000006136ef...."
   ]
  },
  {
   "cell_type": "code",
   "execution_count": 8,
   "metadata": {},
   "outputs": [
    {
     "name": "stdout",
     "output_type": "stream",
     "text": [
      "282749\n"
     ]
    }
   ],
   "source": [
    "import hashlib\n",
    "\n",
    "def day04part1(data):\n",
    "    i = 0\n",
    "    done = False\n",
    "    while not done:\n",
    "        m = hashlib.md5()\n",
    "        m.update(data.encode('utf-8'))\n",
    "        m.update(str(i).encode('utf-8'))\n",
    "        if m.hexdigest()[:5] == '00000':\n",
    "            return i\n",
    "        i += 1\n",
    "\n",
    "assert day04part1(\"abcdef\") == 609043, \"Bad test data\"\n",
    "assert day04part1(\"pqrstuv\") == 1048970, \"Bad test data\"\n",
    "print(day04part1(open(\"2015-04.txt\", 'r').read()))"
   ]
  },
  {
   "attachments": {},
   "cell_type": "markdown",
   "metadata": {},
   "source": [
    "# --- Part Two ---\n",
    "\n",
    "Now find one that starts with six zeroes."
   ]
  },
  {
   "cell_type": "code",
   "execution_count": 9,
   "metadata": {},
   "outputs": [
    {
     "name": "stdout",
     "output_type": "stream",
     "text": [
      "9962624\n"
     ]
    }
   ],
   "source": [
    "import hashlib\n",
    "\n",
    "def day04part2(data):\n",
    "    i = 0\n",
    "    done = False\n",
    "    while not done:\n",
    "        m = hashlib.md5()\n",
    "        m.update(data.encode('utf-8'))\n",
    "        m.update(str(i).encode('utf-8'))\n",
    "        if m.hexdigest()[:6] == '000000':\n",
    "            return i\n",
    "        i += 1\n",
    "\n",
    "print(day04part2(open(\"2015-04.txt\", 'r').read()))"
   ]
  },
  {
   "attachments": {},
   "cell_type": "markdown",
   "metadata": {},
   "source": [
    "--- Day 5: Doesn't He Have Intern-Elves For This? ---\n",
    "\n",
    "Santa needs help figuring out which strings in his text file are naughty or nice.\n",
    "\n",
    "A nice string is one with all of the following properties:\n",
    "\n",
    "It contains at least three vowels (aeiou only), like aei, xazegov, or aeiouaeiouaeiou.\n",
    "\n",
    "It contains at least one letter that appears twice in a row, like xx, abcdde (dd), or aabbccdd (aa, bb, cc, or dd).\n",
    "\n",
    "It does not contain the strings ab, cd, pq, or xy, even if they are part of one of the other requirements.\n",
    "\n",
    "For example:\n",
    "\n",
    "ugknbfddgicrmopn is nice because it has at least three vowels (u...i...o...), a double letter (...dd...), and none of the disallowed substrings.\n",
    "\n",
    "aaa is nice because it has at least three vowels and a double letter, even though the letters used by different rules overlap.\n",
    "\n",
    "jchzalrnumimnmhp is naughty because it has no double letter.\n",
    "\n",
    "haegwjzuvuyypxyu is naughty because it contains the string xy.\n",
    "\n",
    "dvszwmarrgswjxmb is naughty because it contains only one vowel.\n",
    "\n",
    "How many strings are nice?"
   ]
  },
  {
   "cell_type": "code",
   "execution_count": 10,
   "metadata": {},
   "outputs": [
    {
     "name": "stdout",
     "output_type": "stream",
     "text": [
      "255\n"
     ]
    }
   ],
   "source": [
    "def nice(data):\n",
    "    if \"ab\" in data or \"cd\" in data or \"pq\" in data or \"xy\" in data:\n",
    "        return False\n",
    "    if data.count(\"a\") + data.count(\"e\") + data.count(\"i\") + data.count(\"o\") + data.count(\"u\") < 3:\n",
    "        return False\n",
    "    for i in range(len(data)-1):\n",
    "        if data[i] == data[i+1]:\n",
    "            return True\n",
    "    return False\n",
    "\n",
    "def day05part1(data):\n",
    "    return len([i for i in data.split(\"\\n\") if nice(i)])\n",
    "\n",
    "assert nice(\"ugknbfddgicrmopn\"), \"Bad test data\"\n",
    "assert nice(\"aaa\"), \"Bad test data\"\n",
    "assert not nice(\"jchzalrnumimnmhp\"), \"Bad test data\"\n",
    "assert not nice(\"haegwjzuvuyypxyu\"), \"Bad test data\"\n",
    "assert not nice(\"dvszwmarrgswjxmb\"), \"Bad test data\"\n",
    "print(day05part1(open(\"2015-05.txt\").read()))"
   ]
  },
  {
   "attachments": {},
   "cell_type": "markdown",
   "metadata": {},
   "source": [
    "# --- Part Two ---\n",
    "Realizing the error of his ways, Santa has switched to a better model of determining whether a string is naughty or nice. None of the old rules apply, as they are all clearly ridiculous.\n",
    "\n",
    "Now, a nice string is one with all of the following properties:\n",
    "\n",
    "It contains a pair of any two letters that appears at least twice in the string without overlapping, like xyxy (xy) or aabcdefgaa (aa), but not like aaa (aa, but it overlaps).\n",
    "\n",
    "It contains at least one letter which repeats with exactly one letter between them, like xyx, abcdefeghi (efe), or even aaa.\n",
    "\n",
    "For example:\n",
    "\n",
    "qjhvhtzxzqqjkmpb is nice because is has a pair that appears twice (qj) and a letter that repeats with exactly one letter between them (zxz).\n",
    "\n",
    "xxyxx is nice because it has a pair that appears twice and a letter that repeats with one between, even though the letters used by each rule overlap.\n",
    "\n",
    "uurcxstgmygtbstg is naughty because it has a pair (tg) but no repeat with a single letter between them.\n",
    "\n",
    "ieodomkazucvgmuy is naughty because it has a repeating letter with one between (odo), but no pair that appears twice.\n",
    "\n",
    "How many strings are nice under these new rules?"
   ]
  },
  {
   "cell_type": "code",
   "execution_count": 11,
   "metadata": {},
   "outputs": [
    {
     "name": "stdout",
     "output_type": "stream",
     "text": [
      "55\n"
     ]
    }
   ],
   "source": [
    "def nice2(data):\n",
    "    good = False\n",
    "    for i in \"abcdefghijklmnopqrstuvwxyz\":\n",
    "        for j in \"abcdefghijklmnopqrstuvwxyz\":\n",
    "           if data.count(i+j) >= 2:\n",
    "               good = True\n",
    "    if not good:\n",
    "        return False\n",
    "    for i in range(len(data)-2):\n",
    "        if data[i] == data[i+2]:\n",
    "            return True\n",
    "    return False\n",
    "\n",
    "def day05part2(data):\n",
    "    return len([i for i in data.split(\"\\n\") if nice2(i)])\n",
    "\n",
    "assert nice2(\"qjhvhtzxzqqjkmpb\"), \"Bad test data\"\n",
    "assert nice2(\"xxyxx\"), \"Bad test data\"\n",
    "assert not nice2(\"uurcxstgmygtbstg\"), \"Bad test data\"\n",
    "assert not nice2(\"ieodomkazucvgmuy\"), \"Bad test data\"\n",
    "print(day05part2(open(\"2015-05.txt\").read()))"
   ]
  },
  {
   "attachments": {},
   "cell_type": "markdown",
   "metadata": {},
   "source": [
    "# Day 6\n",
    "\n",
    "--- Day 6: Probably a Fire Hazard ---\n",
    "\n",
    "Because your neighbors keep defeating you in the holiday house decorating contest year after year, you've decided to deploy one million lights in a 1000x1000 grid.\n",
    "\n",
    "Furthermore, because you've been especially nice this year, Santa has mailed you instructions on how to display the ideal lighting configuration.\n",
    "\n",
    "Lights in your grid are numbered from 0 to 999 in each direction; the lights at each corner are at 0,0, 0,999, 999,999, and 999,0. The instructions include whether to turn on, turn off, or toggle various inclusive ranges given as coordinate pairs. Each coordinate pair represents opposite corners of a rectangle, inclusive; a coordinate pair like 0,0 through 2,2 therefore refers to 9 lights in a 3x3 square. The lights all start turned off.\n",
    "\n",
    "To defeat your neighbors this year, all you have to do is set up your lights by doing the instructions Santa sent you in order.\n",
    "\n",
    "For example:\n",
    "\n",
    "turn on 0,0 through 999,999 would turn on (or leave on) every light.\n",
    "\n",
    "toggle 0,0 through 999,0 would toggle the first line of 1000 lights, turning off the ones that were on, and turning on the ones that were off.\n",
    "\n",
    "turn off 499,499 through 500,500 would turn off (or leave off) the middle four lights.\n",
    "\n",
    "After following the instructions, how many lights are lit?"
   ]
  },
  {
   "cell_type": "code",
   "execution_count": 12,
   "metadata": {},
   "outputs": [
    {
     "name": "stdout",
     "output_type": "stream",
     "text": [
      "543903\n"
     ]
    }
   ],
   "source": [
    "import collections\n",
    "\n",
    "def day06part1(data):\n",
    "    rules = data.split(\"\\n\")\n",
    "    grid = collections.defaultdict(lambda: collections.defaultdict(int))\n",
    "    for i in rules:\n",
    "        coords = i.split(\",\")\n",
    "        x1 = int(coords[0].split(\" \")[-1])\n",
    "        y1 = int(coords[1].split(\" \")[0])\n",
    "        x2 = int(coords[1].split(\" \")[-1])\n",
    "        y2 = int(coords[2].split(\" \")[0])\n",
    "        x1, x2 = sorted([x1, x2])\n",
    "        y1, y2 = sorted([y1, y2])\n",
    "        for x in range(x1, x2+1):\n",
    "            for y in range(y1, y2+1):\n",
    "                if \"turn on\" in i:\n",
    "                    grid[x][y] = 1\n",
    "                if \"turn off\" in i:\n",
    "                    grid[x][y] = 0\n",
    "                if \"toggle\" in i:\n",
    "                    grid[x][y] = 1 - grid[x][y]\n",
    "    return sum([sum(i.values()) for i in grid.values()])\n",
    "\n",
    "print(day06part1(open(\"2015-06.txt\").read()))\n",
    "        "
   ]
  },
  {
   "attachments": {},
   "cell_type": "markdown",
   "metadata": {},
   "source": [
    "# --- Part Two ---\n",
    "\n",
    "You just finish implementing your winning light pattern when you realize you mistranslated Santa's message from Ancient Nordic Elvish.\n",
    "\n",
    "The light grid you bought actually has individual brightness controls; each light can have a brightness of zero or more. The lights all start at zero.\n",
    "\n",
    "The phrase turn on actually means that you should increase the brightness of those lights by 1.\n",
    "\n",
    "The phrase turn off actually means that you should decrease the brightness of those lights by 1, to a minimum of zero.\n",
    "\n",
    "The phrase toggle actually means that you should increase the brightness of those lights by 2.\n",
    "\n",
    "What is the total brightness of all lights combined after following Santa's instructions?\n",
    "\n",
    "For example:\n",
    "\n",
    "turn on 0,0 through 0,0 would increase the total brightness by 1.\n",
    "\n",
    "toggle 0,0 through 999,999 would increase the total brightness by 2000000."
   ]
  },
  {
   "cell_type": "code",
   "execution_count": 13,
   "metadata": {},
   "outputs": [
    {
     "name": "stdout",
     "output_type": "stream",
     "text": [
      "14687245\n"
     ]
    }
   ],
   "source": [
    "import collections\n",
    "\n",
    "def day06part2(data):\n",
    "    rules = data.split(\"\\n\")\n",
    "    grid = collections.defaultdict(lambda: collections.defaultdict(int))\n",
    "    for i in rules:\n",
    "        coords = i.split(\",\")\n",
    "        x1 = int(coords[0].split(\" \")[-1])\n",
    "        y1 = int(coords[1].split(\" \")[0])\n",
    "        x2 = int(coords[1].split(\" \")[-1])\n",
    "        y2 = int(coords[2].split(\" \")[0])\n",
    "        x1, x2 = sorted([x1, x2])\n",
    "        y1, y2 = sorted([y1, y2])\n",
    "        for x in range(x1, x2+1):\n",
    "            for y in range(y1, y2+1):\n",
    "                if \"turn on\" in i:\n",
    "                    grid[x][y] += 1\n",
    "                if \"turn off\" in i:\n",
    "                    grid[x][y] = max(grid[x][y] - 1, 0)\n",
    "                if \"toggle\" in i:\n",
    "                    grid[x][y] += 2\n",
    "    return sum([sum(i.values()) for i in grid.values()])\n",
    "\n",
    "print(day06part2(open(\"2015-06.txt\").read()))"
   ]
  },
  {
   "attachments": {},
   "cell_type": "markdown",
   "metadata": {},
   "source": [
    "# Day 7\n",
    "\n",
    "--- Day 7: Some Assembly Required ---\n",
    "\n",
    "This year, Santa brought little Bobby Tables a set of wires and bitwise logic gates! Unfortunately, little Bobby is a little under the recommended age range, and he needs help assembling the circuit.\n",
    "\n",
    "Each wire has an identifier (some lowercase letters) and can carry a 16-bit signal (a number from 0 to 65535). A signal is provided to each wire by a gate, another wire, or some specific value. Each wire can only get a signal from one source, but can provide its signal to multiple destinations. A gate provides no signal until all of its inputs have a signal.\n",
    "\n",
    "The included instructions booklet describes how to connect the parts together: x AND y -> z means to connect wires x and y to an AND gate, and then connect its output to wire z.\n",
    "\n",
    "For example:\n",
    "\n",
    "123 -> x means that the signal 123 is provided to wire x.\n",
    "\n",
    "x AND y -> z means that the bitwise AND of wire x and wire y is provided to wire z.\n",
    "\n",
    "p LSHIFT 2 -> q means that the value from wire p is left-shifted by 2 and then provided to wire q.\n",
    "\n",
    "NOT e -> f means that the bitwise complement of the value from wire e is provided to wire f.\n",
    "\n",
    "Other possible gates include OR (bitwise OR) and RSHIFT (right-shift). If, for some reason, you'd like to emulate the circuit instead, almost all programming languages (for example, C, JavaScript, or Python) provide operators for these gates.\n",
    "\n",
    "For example, here is a simple circuit:\n",
    "\n",
    "123 -> x\n",
    "\n",
    "456 -> y\n",
    "\n",
    "x AND y -> d\n",
    "\n",
    "x OR y -> e\n",
    "\n",
    "x LSHIFT 2 -> f\n",
    "\n",
    "y RSHIFT 2 -> g\n",
    "\n",
    "NOT x -> h\n",
    "\n",
    "NOT y -> i\n",
    "\n",
    "After it is run, these are the signals on the wires:\n",
    "\n",
    "d: 72\n",
    "\n",
    "e: 507\n",
    "\n",
    "f: 492\n",
    "\n",
    "g: 114\n",
    "\n",
    "h: 65412\n",
    "\n",
    "i: 65079\n",
    "\n",
    "x: 123\n",
    "\n",
    "y: 456\n",
    "\n",
    "In little Bobby's kit's instructions booklet (provided as your puzzle input), what signal is ultimately provided to wire a?"
   ]
  },
  {
   "cell_type": "code",
   "execution_count": 14,
   "metadata": {},
   "outputs": [
    {
     "name": "stdout",
     "output_type": "stream",
     "text": [
      "956\n"
     ]
    }
   ],
   "source": [
    "sample_kit = \"\"\"123 -> x\n",
    "456 -> y\n",
    "x AND y -> d\n",
    "x OR y -> e\n",
    "x LSHIFT 2 -> f\n",
    "y RSHIFT 2 -> g\n",
    "NOT x -> h\n",
    "NOT y -> i\"\"\"\n",
    "\n",
    "def day07part1(rulelist):\n",
    "    rules = rulelist.split(\"\\n\")\n",
    "    data = {}\n",
    "    while len(rules) > 0:\n",
    "        rule = rules.pop(0)\n",
    "        if \"AND\" in rule:\n",
    "            args = [rule.split(\" \")[0], rule.split(\" \")[2]]\n",
    "            bad = False\n",
    "            if not args[0].isnumeric():\n",
    "                if args[0] in data:\n",
    "                    args[0] = \"data[\\\"\" + args[0] + \"\\\"]\"\n",
    "                else:\n",
    "                    bad = True\n",
    "            if not args[1].isnumeric():\n",
    "                if args[1] in data:\n",
    "                    args[1] = \"data[\\\"\" + args[1] + \"\\\"]\"\n",
    "                else:\n",
    "                    bad = True\n",
    "            if bad:\n",
    "                rules.append(rule)\n",
    "            else:\n",
    "                data[rule.split(\" \")[4]] = eval(args[0] + \" & \" + args[1])\n",
    "        if \"OR\" in rule:\n",
    "            args = [rule.split(\" \")[0], rule.split(\" \")[2]]\n",
    "            bad = False\n",
    "            if not args[0].isnumeric():\n",
    "                if args[0] in data:\n",
    "                    args[0] = \"data[\\\"\" + args[0] + \"\\\"]\"\n",
    "                else:\n",
    "                    bad = True\n",
    "            if not args[1].isnumeric():\n",
    "                if args[1] in data:\n",
    "                    args[1] = \"data[\\\"\" + args[1] + \"\\\"]\"\n",
    "                else:\n",
    "                    bad = True\n",
    "            if bad:\n",
    "                rules.append(rule)\n",
    "            else:\n",
    "                data[rule.split(\" \")[4]] = eval(args[0] + \" | \" + args[1])\n",
    "        if \"LSHIFT\" in rule:\n",
    "            args = [rule.split(\" \")[0], rule.split(\" \")[2]]\n",
    "            bad = False\n",
    "            if not args[0].isnumeric():\n",
    "                if args[0] in data:\n",
    "                    args[0] = \"data[\\\"\" + args[0] + \"\\\"]\"\n",
    "                else:\n",
    "                    bad = True\n",
    "            if not args[1].isnumeric():\n",
    "                if args[1] in data:\n",
    "                    args[1] = \"data[\\\"\" + args[1] + \"\\\"]\"\n",
    "                else:\n",
    "                    bad = True\n",
    "            if bad:\n",
    "                rules.append(rule)\n",
    "            else:\n",
    "                data[rule.split(\" \")[4]] = eval(\"(\" + args[0] + \" << \" + args[1] + \") % 65536\")\n",
    "        if \"RSHIFT\" in rule:\n",
    "            args = [rule.split(\" \")[0], rule.split(\" \")[2]]\n",
    "            bad = False\n",
    "            if not args[0].isnumeric():\n",
    "                if args[0] in data:\n",
    "                    args[0] = \"data[\\\"\" + args[0] + \"\\\"]\"\n",
    "                else:\n",
    "                    bad = True\n",
    "            if not args[1].isnumeric():\n",
    "                if args[1] in data:\n",
    "                    args[1] = \"data[\\\"\" + args[1] + \"\\\"]\"\n",
    "                else:\n",
    "                    bad = True\n",
    "            if bad:\n",
    "                rules.append(rule)\n",
    "            else:\n",
    "                data[rule.split(\" \")[4]] = eval(\"(\" + args[0] + \" >> \" + args[1] + \") % 65536\")\n",
    "        if \"NOT\" in rule:\n",
    "            args = [rule.split(\" \")[1],]\n",
    "            bad = False\n",
    "            if not args[0].isnumeric():\n",
    "                if args[0] in data:\n",
    "                    args[0] = \"data[\\\"\" + args[0] + \"\\\"]\"\n",
    "                else:\n",
    "                    bad = True\n",
    "            if bad:\n",
    "                rules.append(rule)\n",
    "            else:\n",
    "                data[rule.split(\" \")[3]] = eval(\"65535 - \" + args[0])\n",
    "        if \"NOT\" not in rule and \"AND\" not in rule and \"SHIFT\" not in rule and \"OR\" not in rule:\n",
    "            args = rule.split(\" \")\n",
    "            bad = False\n",
    "            if not args[0].isnumeric():\n",
    "                if args[0] in data:\n",
    "                    args[0] = \"data[\\\"\" + args[0] + \"\\\"]\"\n",
    "                else:\n",
    "                    bad = True\n",
    "            if bad:\n",
    "                rules.append(rule)\n",
    "            else:\n",
    "                data[rule.split(\" \")[2]] = eval(args[0])\n",
    "    return data\n",
    "\n",
    "assert day07part1(sample_kit)['d'] == 72\n",
    "assert day07part1(sample_kit)['e'] == 507\n",
    "assert day07part1(sample_kit)['f'] == 492\n",
    "assert day07part1(sample_kit)['g'] == 114\n",
    "assert day07part1(sample_kit)['h'] == 65412\n",
    "assert day07part1(sample_kit)['i'] == 65079\n",
    "assert day07part1(sample_kit)['x'] == 123\n",
    "assert day07part1(sample_kit)['y'] == 456\n",
    "print(day07part1(open(\"2015-07.txt\").read())['a'])\n"
   ]
  },
  {
   "attachments": {},
   "cell_type": "markdown",
   "metadata": {},
   "source": [
    "# --- Part Two\n",
    "\n",
    "Now, take the signal you got on wire a, override wire b to that signal, and reset the other wires (including wire a). What new signal is ultimately provided to wire a?"
   ]
  },
  {
   "cell_type": "code",
   "execution_count": 15,
   "metadata": {},
   "outputs": [
    {
     "name": "stdout",
     "output_type": "stream",
     "text": [
      "40149\n"
     ]
    }
   ],
   "source": [
    "def day07part2(rulelist):\n",
    "    rules = rulelist.split(\"\\n\")\n",
    "    i = [j for j in rules if j[-2:] == \" b\"][0]\n",
    "    rules.remove(i)\n",
    "    rules.append(str(day07part1(open(\"2015-07.txt\").read())['a']) + \" -> b\")\n",
    "    return day07part1(\"\\n\".join(rules))\n",
    "\n",
    "print(day07part2(open(\"2015-07.txt\").read())['a'])"
   ]
  },
  {
   "attachments": {},
   "cell_type": "markdown",
   "metadata": {},
   "source": [
    "# Day #8\n",
    "\n",
    "--- Day 8: Matchsticks ---\n",
    "\n",
    "Space on the sleigh is limited this year, and so Santa will be bringing his list as a digital copy. He needs to know how much space it will take up when stored.\n",
    "\n",
    "It is common in many programming languages to provide a way to escape special characters in strings. For example, C, JavaScript, Perl, Python, and even PHP handle special characters in very similar ways.\n",
    "\n",
    "However, it is important to realize the difference between the number of characters in the code representation of the string literal and the number of characters in the in-memory string itself.\n",
    "\n",
    "For example:\n",
    "\n",
    "\"\" is 2 characters of code (the two double quotes), but the string contains zero characters.\n",
    "\n",
    "\"abc\" is 5 characters of code, but 3 characters in the string data.\n",
    "\"aaa\\\"aaa\" is 10 characters of code, but the string itself contains six \"a\" characters and a single, escaped quote character, for a total of 7 characters in the string data.\n",
    "\n",
    "\"\\x27\" is 6 characters of code, but the string itself contains just one - an apostrophe ('), escaped using hexadecimal notation.\n",
    "\n",
    "Santa's list is a file that contains many double-quoted string literals, one on each line. The only escape sequences used are \\\\ (which represents a single backslash), \\\" (which represents a lone double-quote character), and \\x plus two hexadecimal characters (which represents a single character with that ASCII code).\n",
    "\n",
    "Disregarding the whitespace in the file, what is the number of characters of code for string literals minus the number of characters in memory for the values of the strings in total for the entire file?\n",
    "\n",
    "For example, given the four strings above, the total number of characters of string code (2 + 5 + 10 + 6 = 23) minus the total number of characters in memory for string values (0 + 3 + 7 + 1 = 11) is 23 - 11 = 12."
   ]
  },
  {
   "cell_type": "code",
   "execution_count": 16,
   "metadata": {},
   "outputs": [
    {
     "name": "stdout",
     "output_type": "stream",
     "text": [
      "1333\n"
     ]
    }
   ],
   "source": [
    "def day08part1(data):\n",
    "    total = 0\n",
    "    for word in data.split(\"\\n\"):\n",
    "        while \"\\\\\\\"\" in word:\n",
    "            total += 1\n",
    "            word = word.replace(\"\\\\\\\"\", \"\", 1)\n",
    "        while \"\\\\\\\\\" in word:\n",
    "            total += 1\n",
    "            word = word.replace(\"\\\\\\\\\", \"\", 1)\n",
    "        while \"\\\\x\" in word:\n",
    "            total += 3\n",
    "            word = word[:word.index(\"\\\\x\")] + word[word.index(\"\\\\x\")+4:]\n",
    "        total += 2\n",
    "    return total\n",
    "\n",
    "assert day08part1(r\"\") == 2, \"Bad test data\"\n",
    "assert day08part1(r\"abc\") == 2, \"Bad test data\"\n",
    "assert day08part1(r\"aaa\\\"aaa\") == 3, \"Bad test data\"\n",
    "assert day08part1(r\"\\x27\") == 5, \"Bad test data\"\n",
    "print(day08part1(open(\"2015-08.txt\").read()))"
   ]
  },
  {
   "attachments": {},
   "cell_type": "markdown",
   "metadata": {},
   "source": [
    "# --- Part Two ---\n",
    "\n",
    "Now, let's go the other way. In addition to finding the number of characters of code, you should now encode each code representation as a new string and find the number of characters of the new encoded representation, including the surrounding double quotes.\n",
    "\n",
    "For example:\n",
    "\n",
    "\"\" encodes to \"\\\"\\\"\", an increase from 2 characters to 6.\n",
    "\n",
    "\"abc\" encodes to \"\\\"abc\\\"\", an increase from 5 characters to 9.\n",
    "\n",
    "\"aaa\\\"aaa\" encodes to \"\\\"aaa\\\\\\\"aaa\\\"\", an increase from 10 characters to 16.\n",
    "\n",
    "\"\\x27\" encodes to \"\\\"\\\\x27\\\"\", an increase from 6 characters to 11.\n",
    "\n",
    "Your task is to find the total number of characters to represent the newly encoded strings minus the number of characters of code in each original string literal. For example, for the strings above, the total encoded length (6 + 9 + 16 + 11 = 42) minus the characters in the original code representation (23, just like in the first part of this puzzle) is 42 - 23 = 19."
   ]
  },
  {
   "cell_type": "code",
   "execution_count": 17,
   "metadata": {},
   "outputs": [
    {
     "name": "stdout",
     "output_type": "stream",
     "text": [
      "2046\n"
     ]
    }
   ],
   "source": [
    "def day08part2(data):\n",
    "    total = 0\n",
    "    for word in data.split(\"\\n\"):\n",
    "   #     print(word)\n",
    "        total += 2\n",
    "        while \"\\\"\" in word:\n",
    "            total += 1\n",
    "            word = word.replace(\"\\\"\", \"\", 1)\n",
    "        while \"\\\\\" in word:\n",
    "            total += 1\n",
    "            word = word.replace(\"\\\\\", \"\", 1)\n",
    "    return total\n",
    "\n",
    "assert day08part2(r\"\") == 2, \"Bad test data\"\n",
    "assert day08part2(r\"abc\") == 2, \"Bad test data\"\n",
    "assert day08part2(r\"aaa\\\"aaa\") == 4, \"Bad test data\"\n",
    "assert day08part2(r\"\\x27\") == 3, \"Bad test data\"\n",
    "print(day08part2(open(\"2015-08.txt\").read()))"
   ]
  },
  {
   "attachments": {},
   "cell_type": "markdown",
   "metadata": {},
   "source": [
    "# Day #9\n",
    "\n",
    "--- Day 9: All in a Single Night ---\n",
    "\n",
    "Every year, Santa manages to deliver all of his presents in a single night.\n",
    "\n",
    "This year, however, he has some new locations to visit; his elves have provided him the distances between every pair of locations. He can start and end at any two (different) locations he wants, but he must visit each location exactly once. What is the shortest distance he can travel to achieve this?\n",
    "\n",
    "For example, given the following distances:\n",
    "\n",
    "London to Dublin = 464\n",
    "\n",
    "London to Belfast = 518\n",
    "\n",
    "Dublin to Belfast = 141\n",
    "\n",
    "The possible routes are therefore:\n",
    "\n",
    "Dublin -> London -> Belfast = 982\n",
    "\n",
    "London -> Dublin -> Belfast = 605\n",
    "\n",
    "London -> Belfast -> Dublin = 659\n",
    "\n",
    "Dublin -> Belfast -> London = 659\n",
    "\n",
    "Belfast -> Dublin -> London = 605\n",
    "\n",
    "Belfast -> London -> Dublin = 982\n",
    "\n",
    "The shortest of these is London -> Dublin -> Belfast = 605, and so the answer is 605 in this example.\n",
    "\n",
    "What is the distance of the shortest route?"
   ]
  },
  {
   "cell_type": "code",
   "execution_count": 18,
   "metadata": {},
   "outputs": [
    {
     "name": "stdout",
     "output_type": "stream",
     "text": [
      "117\n"
     ]
    }
   ],
   "source": [
    "import itertools\n",
    "import collections\n",
    "\n",
    "sample_data = \"\"\"London to Dublin = 464\n",
    "London to Belfast = 518\n",
    "Dublin to Belfast = 141\"\"\"\n",
    "\n",
    "def day09part1(data):\n",
    "    distance = collections.defaultdict(lambda: collections.defaultdict(int))\n",
    "    for i in data.split(\"\\n\"):\n",
    "        city1, _, city2, _, dist = i.split(\" \")\n",
    "        dist = int(dist)\n",
    "        distance[city1][city2] = dist\n",
    "        distance[city2][city1] = dist\n",
    "    best = 10 ** 99\n",
    "    for i in itertools.permutations(distance.keys()):\n",
    "        best = min(best, sum(distance[x][y] for x,y  in list(itertools.pairwise(i))))\n",
    "    return best\n",
    "\n",
    "assert day09part1(sample_data) == 605\n",
    "print(day09part1(open(\"2015-09.txt\").read()))"
   ]
  },
  {
   "attachments": {},
   "cell_type": "markdown",
   "metadata": {},
   "source": [
    "# --- Part Two ---\n",
    "The next year, just to show off, Santa decides to take the route with the longest distance instead.\n",
    "\n",
    "He can still start and end at any two (different) locations he wants, and he still must visit each location exactly once.\n",
    "\n",
    "For example, given the distances above, the longest route would be 982 via (for example) Dublin -> London -> Belfast.\n",
    "\n",
    "What is the distance of the longest route?"
   ]
  },
  {
   "cell_type": "code",
   "execution_count": 19,
   "metadata": {},
   "outputs": [
    {
     "name": "stdout",
     "output_type": "stream",
     "text": [
      "909\n"
     ]
    }
   ],
   "source": [
    "import itertools\n",
    "import collections\n",
    "\n",
    "sample_data = \"\"\"London to Dublin = 464\n",
    "London to Belfast = 518\n",
    "Dublin to Belfast = 141\"\"\"\n",
    "\n",
    "def day09part2(data):\n",
    "    distance = collections.defaultdict(lambda: collections.defaultdict(int))\n",
    "    for i in data.split(\"\\n\"):\n",
    "        city1, _, city2, _, dist = i.split(\" \")\n",
    "        dist = int(dist)\n",
    "        distance[city1][city2] = dist\n",
    "        distance[city2][city1] = dist\n",
    "    best = 0\n",
    "    for i in itertools.permutations(distance.keys()):\n",
    "        best = max(best, sum(distance[x][y] for x,y  in list(itertools.pairwise(i))))\n",
    "    return best\n",
    "\n",
    "assert day09part2(sample_data) == 982\n",
    "print(day09part2(open(\"2015-09.txt\").read()))"
   ]
  },
  {
   "attachments": {},
   "cell_type": "markdown",
   "metadata": {},
   "source": [
    "# Day #10\n",
    "\n",
    "--- Day 10: Elves Look, Elves Say ---\n",
    "\n",
    "Today, the Elves are playing a game called look-and-say. They take turns making sequences by reading aloud the previous sequence and using that reading as the next sequence. For example, 211 is read as \"one two, two ones\", which becomes 1221 (1 2, 2 1s).\n",
    "\n",
    "Look-and-say sequences are generated iteratively, using the previous value as input for the next step. For each step, take the previous value, and replace each run of digits (like 111) with the number of digits (3) followed by the digit itself (1).\n",
    "\n",
    "For example:\n",
    "\n",
    "1 becomes 11 (1 copy of digit 1).\n",
    "\n",
    "11 becomes 21 (2 copies of digit 1).\n",
    "\n",
    "21 becomes 1211 (one 2 followed by one 1).\n",
    "\n",
    "1211 becomes 111221 (one 1, one 2, and two 1s).\n",
    "\n",
    "111221 becomes 312211 (three 1s, two 2s, and one 1).\n",
    "\n",
    "Starting with the digits in your puzzle input, apply this process 40 times. What is the length of the result?"
   ]
  },
  {
   "cell_type": "code",
   "execution_count": 20,
   "metadata": {},
   "outputs": [
    {
     "name": "stdout",
     "output_type": "stream",
     "text": [
      "329356\n"
     ]
    }
   ],
   "source": [
    "def lookandsay(word):\n",
    "    current = next(word)\n",
    "    cc = 1\n",
    "    for i in word:\n",
    "        newcur = i\n",
    "        if newcur == current:\n",
    "            cc += 1\n",
    "        else:\n",
    "            yield cc\n",
    "            yield current\n",
    "            current = newcur\n",
    "            cc = 1\n",
    "    yield cc\n",
    "    yield current\n",
    "\n",
    "def day10part1(data):\n",
    "    data = iter([int(i) for i in data])\n",
    "    for i in range(40):\n",
    "        data = lookandsay(data)\n",
    "    return len(list(data))\n",
    "\n",
    "assert list(lookandsay(iter([1]))) == [1,1], \"Bad test data\"\n",
    "assert list(lookandsay(iter([1,1]))) == [2,1], \"Bad test data\"\n",
    "assert list(lookandsay(iter([2,1]))) == [1,2,1,1], \"Bad test data\"\n",
    "assert list(lookandsay(iter([1,2,1,1]))) == [1,1,1,2,2,1], \"Bad test data\"\n",
    "assert list(lookandsay(iter([1,1,1,2,2,1]))) == [3,1,2,2,1,1], \"Bad test data\"\n",
    "print(day10part1(open(\"2015-10.txt\").read()))"
   ]
  },
  {
   "attachments": {},
   "cell_type": "markdown",
   "metadata": {},
   "source": [
    "# --- Part Two ---\n",
    "Neat, right? You might also enjoy hearing John Conway talking about this sequence (that's Conway of Conway's Game of Life fame).\n",
    "\n",
    "Now, starting again with the digits in your puzzle input, apply this process 50 times. What is the length of the new result?"
   ]
  },
  {
   "cell_type": "code",
   "execution_count": 21,
   "metadata": {},
   "outputs": [
    {
     "name": "stdout",
     "output_type": "stream",
     "text": [
      "4666278\n"
     ]
    }
   ],
   "source": [
    "def lookandsay(word):\n",
    "    current = next(word)\n",
    "    cc = 1\n",
    "    for i in word:\n",
    "        newcur = i\n",
    "        if newcur == current:\n",
    "            cc += 1\n",
    "        else:\n",
    "            yield cc\n",
    "            yield current\n",
    "            current = newcur\n",
    "            cc = 1\n",
    "    yield cc\n",
    "    yield current\n",
    "\n",
    "def day10part2(data):\n",
    "    data = iter([int(i) for i in data])\n",
    "    for i in range(50):\n",
    "        data = lookandsay(data)\n",
    "    return len(list(data))\n",
    "\n",
    "print(day10part2(open(\"2015-10.txt\").read()))"
   ]
  },
  {
   "cell_type": "code",
   "execution_count": null,
   "metadata": {},
   "outputs": [],
   "source": []
  }
 ],
 "metadata": {
  "kernelspec": {
   "display_name": "Python 3",
   "language": "python",
   "name": "python3"
  },
  "language_info": {
   "codemirror_mode": {
    "name": "ipython",
    "version": 3
   },
   "file_extension": ".py",
   "mimetype": "text/x-python",
   "name": "python",
   "nbconvert_exporter": "python",
   "pygments_lexer": "ipython3",
   "version": "3.11.1"
  },
  "orig_nbformat": 4,
  "vscode": {
   "interpreter": {
    "hash": "86ef22fb7ff159b7645d100e504dc02a1cfdc6aef20097a00a7edb5b3f9c16c8"
   }
  }
 },
 "nbformat": 4,
 "nbformat_minor": 2
}
