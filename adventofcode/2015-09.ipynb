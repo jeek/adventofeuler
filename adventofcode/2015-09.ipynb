{
 "cells": [
  {
   "cell_type": "code",
   "execution_count": 1,
   "metadata": {},
   "outputs": [],
   "source": [
    "assert True"
   ]
  },
  {
   "attachments": {},
   "cell_type": "markdown",
   "metadata": {},
   "source": [
    "# Day #9\n",
    "\n",
    "--- Day 9: All in a Single Night ---\n",
    "\n",
    "Every year, Santa manages to deliver all of his presents in a single night.\n",
    "\n",
    "This year, however, he has some new locations to visit; his elves have provided him the distances between every pair of locations. He can start and end at any two (different) locations he wants, but he must visit each location exactly once. What is the shortest distance he can travel to achieve this?\n",
    "\n",
    "For example, given the following distances:\n",
    "\n",
    "London to Dublin = 464\n",
    "\n",
    "London to Belfast = 518\n",
    "\n",
    "Dublin to Belfast = 141\n",
    "\n",
    "The possible routes are therefore:\n",
    "\n",
    "Dublin -> London -> Belfast = 982\n",
    "\n",
    "London -> Dublin -> Belfast = 605\n",
    "\n",
    "London -> Belfast -> Dublin = 659\n",
    "\n",
    "Dublin -> Belfast -> London = 659\n",
    "\n",
    "Belfast -> Dublin -> London = 605\n",
    "\n",
    "Belfast -> London -> Dublin = 982\n",
    "\n",
    "The shortest of these is London -> Dublin -> Belfast = 605, and so the answer is 605 in this example.\n",
    "\n",
    "What is the distance of the shortest route?"
   ]
  },
  {
   "cell_type": "code",
   "execution_count": 2,
   "metadata": {},
   "outputs": [
    {
     "name": "stdout",
     "output_type": "stream",
     "text": [
      "117\n"
     ]
    }
   ],
   "source": [
    "import itertools\n",
    "import collections\n",
    "\n",
    "sample_data = \"\"\"London to Dublin = 464\n",
    "London to Belfast = 518\n",
    "Dublin to Belfast = 141\"\"\"\n",
    "\n",
    "def day09part1(data):\n",
    "    distance = collections.defaultdict(lambda: collections.defaultdict(int))\n",
    "    for i in data.split(\"\\n\"):\n",
    "        city1, _, city2, _, dist = i.split(\" \")\n",
    "        dist = int(dist)\n",
    "        distance[city1][city2] = dist\n",
    "        distance[city2][city1] = dist\n",
    "    best = 10 ** 99\n",
    "    for i in itertools.permutations(distance.keys()):\n",
    "        best = min(best, sum(distance[x][y] for x,y  in list(itertools.pairwise(i))))\n",
    "    return best\n",
    "\n",
    "assert day09part1(sample_data) == 605\n",
    "print(day09part1(open(\"2015-09.txt\").read()))"
   ]
  },
  {
   "attachments": {},
   "cell_type": "markdown",
   "metadata": {},
   "source": [
    "# --- Part Two ---\n",
    "The next year, just to show off, Santa decides to take the route with the longest distance instead.\n",
    "\n",
    "He can still start and end at any two (different) locations he wants, and he still must visit each location exactly once.\n",
    "\n",
    "For example, given the distances above, the longest route would be 982 via (for example) Dublin -> London -> Belfast.\n",
    "\n",
    "What is the distance of the longest route?"
   ]
  },
  {
   "cell_type": "code",
   "execution_count": 3,
   "metadata": {},
   "outputs": [
    {
     "name": "stdout",
     "output_type": "stream",
     "text": [
      "909\n"
     ]
    }
   ],
   "source": [
    "import itertools\n",
    "import collections\n",
    "\n",
    "sample_data = \"\"\"London to Dublin = 464\n",
    "London to Belfast = 518\n",
    "Dublin to Belfast = 141\"\"\"\n",
    "\n",
    "def day09part2(data):\n",
    "    distance = collections.defaultdict(lambda: collections.defaultdict(int))\n",
    "    for i in data.split(\"\\n\"):\n",
    "        city1, _, city2, _, dist = i.split(\" \")\n",
    "        dist = int(dist)\n",
    "        distance[city1][city2] = dist\n",
    "        distance[city2][city1] = dist\n",
    "    best = 0\n",
    "    for i in itertools.permutations(distance.keys()):\n",
    "        best = max(best, sum(distance[x][y] for x,y  in list(itertools.pairwise(i))))\n",
    "    return best\n",
    "\n",
    "assert day09part2(sample_data) == 982\n",
    "print(day09part2(open(\"2015-09.txt\").read()))"
   ]
  }
 ],
 "metadata": {
  "kernelspec": {
   "display_name": "Python 3",
   "language": "python",
   "name": "python3"
  },
  "language_info": {
   "codemirror_mode": {
    "name": "ipython",
    "version": 3
   },
   "file_extension": ".py",
   "mimetype": "text/x-python",
   "name": "python",
   "nbconvert_exporter": "python",
   "pygments_lexer": "ipython3",
   "version": "3.11.0"
  },
  "orig_nbformat": 4
 },
 "nbformat": 4,
 "nbformat_minor": 2
}
