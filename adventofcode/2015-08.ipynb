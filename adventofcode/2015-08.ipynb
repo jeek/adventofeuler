{
 "cells": [
  {
   "cell_type": "code",
   "execution_count": 1,
   "metadata": {},
   "outputs": [],
   "source": [
    "assert True"
   ]
  },
  {
   "attachments": {},
   "cell_type": "markdown",
   "metadata": {},
   "source": [
    "# Day #8\n",
    "\n",
    "--- Day 8: Matchsticks ---\n",
    "\n",
    "Space on the sleigh is limited this year, and so Santa will be bringing his list as a digital copy. He needs to know how much space it will take up when stored.\n",
    "\n",
    "It is common in many programming languages to provide a way to escape special characters in strings. For example, C, JavaScript, Perl, Python, and even PHP handle special characters in very similar ways.\n",
    "\n",
    "However, it is important to realize the difference between the number of characters in the code representation of the string literal and the number of characters in the in-memory string itself.\n",
    "\n",
    "For example:\n",
    "\n",
    "\"\" is 2 characters of code (the two double quotes), but the string contains zero characters.\n",
    "\n",
    "\"abc\" is 5 characters of code, but 3 characters in the string data.\n",
    "\"aaa\\\"aaa\" is 10 characters of code, but the string itself contains six \"a\" characters and a single, escaped quote character, for a total of 7 characters in the string data.\n",
    "\n",
    "\"\\x27\" is 6 characters of code, but the string itself contains just one - an apostrophe ('), escaped using hexadecimal notation.\n",
    "\n",
    "Santa's list is a file that contains many double-quoted string literals, one on each line. The only escape sequences used are \\\\ (which represents a single backslash), \\\" (which represents a lone double-quote character), and \\x plus two hexadecimal characters (which represents a single character with that ASCII code).\n",
    "\n",
    "Disregarding the whitespace in the file, what is the number of characters of code for string literals minus the number of characters in memory for the values of the strings in total for the entire file?\n",
    "\n",
    "For example, given the four strings above, the total number of characters of string code (2 + 5 + 10 + 6 = 23) minus the total number of characters in memory for string values (0 + 3 + 7 + 1 = 11) is 23 - 11 = 12."
   ]
  },
  {
   "cell_type": "code",
   "execution_count": 2,
   "metadata": {},
   "outputs": [
    {
     "name": "stdout",
     "output_type": "stream",
     "text": [
      "1333\n"
     ]
    }
   ],
   "source": [
    "def day08part1(data):\n",
    "    total = 0\n",
    "    for word in data.split(\"\\n\"):\n",
    "        while \"\\\\\\\"\" in word:\n",
    "            total += 1\n",
    "            word = word.replace(\"\\\\\\\"\", \"\", 1)\n",
    "        while \"\\\\\\\\\" in word:\n",
    "            total += 1\n",
    "            word = word.replace(\"\\\\\\\\\", \"\", 1)\n",
    "        while \"\\\\x\" in word:\n",
    "            total += 3\n",
    "            word = word[:word.index(\"\\\\x\")] + word[word.index(\"\\\\x\")+4:]\n",
    "        total += 2\n",
    "    return total\n",
    "\n",
    "assert day08part1(r\"\") == 2, \"Bad test data\"\n",
    "assert day08part1(r\"abc\") == 2, \"Bad test data\"\n",
    "assert day08part1(r\"aaa\\\"aaa\") == 3, \"Bad test data\"\n",
    "assert day08part1(r\"\\x27\") == 5, \"Bad test data\"\n",
    "print(day08part1(open(\"2015-08.txt\").read()))"
   ]
  },
  {
   "attachments": {},
   "cell_type": "markdown",
   "metadata": {},
   "source": [
    "# --- Part Two ---\n",
    "\n",
    "Now, let's go the other way. In addition to finding the number of characters of code, you should now encode each code representation as a new string and find the number of characters of the new encoded representation, including the surrounding double quotes.\n",
    "\n",
    "For example:\n",
    "\n",
    "\"\" encodes to \"\\\"\\\"\", an increase from 2 characters to 6.\n",
    "\n",
    "\"abc\" encodes to \"\\\"abc\\\"\", an increase from 5 characters to 9.\n",
    "\n",
    "\"aaa\\\"aaa\" encodes to \"\\\"aaa\\\\\\\"aaa\\\"\", an increase from 10 characters to 16.\n",
    "\n",
    "\"\\x27\" encodes to \"\\\"\\\\x27\\\"\", an increase from 6 characters to 11.\n",
    "\n",
    "Your task is to find the total number of characters to represent the newly encoded strings minus the number of characters of code in each original string literal. For example, for the strings above, the total encoded length (6 + 9 + 16 + 11 = 42) minus the characters in the original code representation (23, just like in the first part of this puzzle) is 42 - 23 = 19."
   ]
  },
  {
   "cell_type": "code",
   "execution_count": 3,
   "metadata": {},
   "outputs": [
    {
     "name": "stdout",
     "output_type": "stream",
     "text": [
      "2046\n"
     ]
    }
   ],
   "source": [
    "def day08part2(data):\n",
    "    total = 0\n",
    "    for word in data.split(\"\\n\"):\n",
    "   #     print(word)\n",
    "        total += 2\n",
    "        while \"\\\"\" in word:\n",
    "            total += 1\n",
    "            word = word.replace(\"\\\"\", \"\", 1)\n",
    "        while \"\\\\\" in word:\n",
    "            total += 1\n",
    "            word = word.replace(\"\\\\\", \"\", 1)\n",
    "    return total\n",
    "\n",
    "assert day08part2(r\"\") == 2, \"Bad test data\"\n",
    "assert day08part2(r\"abc\") == 2, \"Bad test data\"\n",
    "assert day08part2(r\"aaa\\\"aaa\") == 4, \"Bad test data\"\n",
    "assert day08part2(r\"\\x27\") == 3, \"Bad test data\"\n",
    "print(day08part2(open(\"2015-08.txt\").read()))"
   ]
  }
 ],
 "metadata": {
  "kernelspec": {
   "display_name": "Python 3",
   "language": "python",
   "name": "python3"
  },
  "language_info": {
   "codemirror_mode": {
    "name": "ipython",
    "version": 3
   },
   "file_extension": ".py",
   "mimetype": "text/x-python",
   "name": "python",
   "nbconvert_exporter": "python",
   "pygments_lexer": "ipython3",
   "version": "3.11.0"
  },
  "orig_nbformat": 4
 },
 "nbformat": 4,
 "nbformat_minor": 2
}
