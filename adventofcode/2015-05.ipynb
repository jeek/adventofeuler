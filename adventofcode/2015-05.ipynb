{
 "cells": [
  {
   "cell_type": "code",
   "execution_count": 1,
   "metadata": {},
   "outputs": [],
   "source": [
    "assert True"
   ]
  },
  {
   "attachments": {},
   "cell_type": "markdown",
   "metadata": {},
   "source": [
    "--- Day 5: Doesn't He Have Intern-Elves For This? ---\n",
    "\n",
    "Santa needs help figuring out which strings in his text file are naughty or nice.\n",
    "\n",
    "A nice string is one with all of the following properties:\n",
    "\n",
    "It contains at least three vowels (aeiou only), like aei, xazegov, or aeiouaeiouaeiou.\n",
    "\n",
    "It contains at least one letter that appears twice in a row, like xx, abcdde (dd), or aabbccdd (aa, bb, cc, or dd).\n",
    "\n",
    "It does not contain the strings ab, cd, pq, or xy, even if they are part of one of the other requirements.\n",
    "\n",
    "For example:\n",
    "\n",
    "ugknbfddgicrmopn is nice because it has at least three vowels (u...i...o...), a double letter (...dd...), and none of the disallowed substrings.\n",
    "\n",
    "aaa is nice because it has at least three vowels and a double letter, even though the letters used by different rules overlap.\n",
    "\n",
    "jchzalrnumimnmhp is naughty because it has no double letter.\n",
    "\n",
    "haegwjzuvuyypxyu is naughty because it contains the string xy.\n",
    "\n",
    "dvszwmarrgswjxmb is naughty because it contains only one vowel.\n",
    "\n",
    "How many strings are nice?"
   ]
  },
  {
   "cell_type": "code",
   "execution_count": 2,
   "metadata": {},
   "outputs": [
    {
     "name": "stdout",
     "output_type": "stream",
     "text": [
      "255\n"
     ]
    }
   ],
   "source": [
    "def nice(data):\n",
    "    if \"ab\" in data or \"cd\" in data or \"pq\" in data or \"xy\" in data:\n",
    "        return False\n",
    "    if data.count(\"a\") + data.count(\"e\") + data.count(\"i\") + data.count(\"o\") + data.count(\"u\") < 3:\n",
    "        return False\n",
    "    for i in range(len(data)-1):\n",
    "        if data[i] == data[i+1]:\n",
    "            return True\n",
    "    return False\n",
    "\n",
    "def day05part1(data):\n",
    "    return len([i for i in data.split(\"\\n\") if nice(i)])\n",
    "\n",
    "assert nice(\"ugknbfddgicrmopn\"), \"Bad test data\"\n",
    "assert nice(\"aaa\"), \"Bad test data\"\n",
    "assert not nice(\"jchzalrnumimnmhp\"), \"Bad test data\"\n",
    "assert not nice(\"haegwjzuvuyypxyu\"), \"Bad test data\"\n",
    "assert not nice(\"dvszwmarrgswjxmb\"), \"Bad test data\"\n",
    "print(day05part1(open(\"2015-05.txt\").read()))"
   ]
  },
  {
   "attachments": {},
   "cell_type": "markdown",
   "metadata": {},
   "source": [
    "# --- Part Two ---\n",
    "Realizing the error of his ways, Santa has switched to a better model of determining whether a string is naughty or nice. None of the old rules apply, as they are all clearly ridiculous.\n",
    "\n",
    "Now, a nice string is one with all of the following properties:\n",
    "\n",
    "It contains a pair of any two letters that appears at least twice in the string without overlapping, like xyxy (xy) or aabcdefgaa (aa), but not like aaa (aa, but it overlaps).\n",
    "\n",
    "It contains at least one letter which repeats with exactly one letter between them, like xyx, abcdefeghi (efe), or even aaa.\n",
    "\n",
    "For example:\n",
    "\n",
    "qjhvhtzxzqqjkmpb is nice because is has a pair that appears twice (qj) and a letter that repeats with exactly one letter between them (zxz).\n",
    "\n",
    "xxyxx is nice because it has a pair that appears twice and a letter that repeats with one between, even though the letters used by each rule overlap.\n",
    "\n",
    "uurcxstgmygtbstg is naughty because it has a pair (tg) but no repeat with a single letter between them.\n",
    "\n",
    "ieodomkazucvgmuy is naughty because it has a repeating letter with one between (odo), but no pair that appears twice.\n",
    "\n",
    "How many strings are nice under these new rules?"
   ]
  },
  {
   "cell_type": "code",
   "execution_count": 3,
   "metadata": {},
   "outputs": [
    {
     "name": "stdout",
     "output_type": "stream",
     "text": [
      "55\n"
     ]
    }
   ],
   "source": [
    "def nice2(data):\n",
    "    good = False\n",
    "    for i in \"abcdefghijklmnopqrstuvwxyz\":\n",
    "        for j in \"abcdefghijklmnopqrstuvwxyz\":\n",
    "           if data.count(i+j) >= 2:\n",
    "               good = True\n",
    "    if not good:\n",
    "        return False\n",
    "    for i in range(len(data)-2):\n",
    "        if data[i] == data[i+2]:\n",
    "            return True\n",
    "    return False\n",
    "\n",
    "def day05part2(data):\n",
    "    return len([i for i in data.split(\"\\n\") if nice2(i)])\n",
    "\n",
    "assert nice2(\"qjhvhtzxzqqjkmpb\"), \"Bad test data\"\n",
    "assert nice2(\"xxyxx\"), \"Bad test data\"\n",
    "assert not nice2(\"uurcxstgmygtbstg\"), \"Bad test data\"\n",
    "assert not nice2(\"ieodomkazucvgmuy\"), \"Bad test data\"\n",
    "print(day05part2(open(\"2015-05.txt\").read()))"
   ]
  }
 ],
 "metadata": {
  "kernelspec": {
   "display_name": "Python 3",
   "language": "python",
   "name": "python3"
  },
  "language_info": {
   "codemirror_mode": {
    "name": "ipython",
    "version": 3
   },
   "file_extension": ".py",
   "mimetype": "text/x-python",
   "name": "python",
   "nbconvert_exporter": "python",
   "pygments_lexer": "ipython3",
   "version": "3.11.0"
  },
  "orig_nbformat": 4
 },
 "nbformat": 4,
 "nbformat_minor": 2
}
