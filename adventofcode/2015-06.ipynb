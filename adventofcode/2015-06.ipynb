{
 "cells": [
  {
   "cell_type": "code",
   "execution_count": 1,
   "metadata": {},
   "outputs": [],
   "source": [
    "assert True"
   ]
  },
  {
   "attachments": {},
   "cell_type": "markdown",
   "metadata": {},
   "source": [
    "# Day 6\n",
    "\n",
    "--- Day 6: Probably a Fire Hazard ---\n",
    "\n",
    "Because your neighbors keep defeating you in the holiday house decorating contest year after year, you've decided to deploy one million lights in a 1000x1000 grid.\n",
    "\n",
    "Furthermore, because you've been especially nice this year, Santa has mailed you instructions on how to display the ideal lighting configuration.\n",
    "\n",
    "Lights in your grid are numbered from 0 to 999 in each direction; the lights at each corner are at 0,0, 0,999, 999,999, and 999,0. The instructions include whether to turn on, turn off, or toggle various inclusive ranges given as coordinate pairs. Each coordinate pair represents opposite corners of a rectangle, inclusive; a coordinate pair like 0,0 through 2,2 therefore refers to 9 lights in a 3x3 square. The lights all start turned off.\n",
    "\n",
    "To defeat your neighbors this year, all you have to do is set up your lights by doing the instructions Santa sent you in order.\n",
    "\n",
    "For example:\n",
    "\n",
    "turn on 0,0 through 999,999 would turn on (or leave on) every light.\n",
    "\n",
    "toggle 0,0 through 999,0 would toggle the first line of 1000 lights, turning off the ones that were on, and turning on the ones that were off.\n",
    "\n",
    "turn off 499,499 through 500,500 would turn off (or leave off) the middle four lights.\n",
    "\n",
    "After following the instructions, how many lights are lit?"
   ]
  },
  {
   "cell_type": "code",
   "execution_count": 2,
   "metadata": {},
   "outputs": [
    {
     "name": "stdout",
     "output_type": "stream",
     "text": [
      "543903\n"
     ]
    }
   ],
   "source": [
    "import collections\n",
    "\n",
    "def day06part1(data):\n",
    "    rules = data.split(\"\\n\")\n",
    "    grid = collections.defaultdict(lambda: collections.defaultdict(int))\n",
    "    for i in rules:\n",
    "        coords = i.split(\",\")\n",
    "        x1 = int(coords[0].split(\" \")[-1])\n",
    "        y1 = int(coords[1].split(\" \")[0])\n",
    "        x2 = int(coords[1].split(\" \")[-1])\n",
    "        y2 = int(coords[2].split(\" \")[0])\n",
    "        x1, x2 = sorted([x1, x2])\n",
    "        y1, y2 = sorted([y1, y2])\n",
    "        for x in range(x1, x2+1):\n",
    "            for y in range(y1, y2+1):\n",
    "                if \"turn on\" in i:\n",
    "                    grid[x][y] = 1\n",
    "                if \"turn off\" in i:\n",
    "                    grid[x][y] = 0\n",
    "                if \"toggle\" in i:\n",
    "                    grid[x][y] = 1 - grid[x][y]\n",
    "    return sum([sum(i.values()) for i in grid.values()])\n",
    "\n",
    "print(day06part1(open(\"2015-06.txt\").read()))\n",
    "        "
   ]
  },
  {
   "attachments": {},
   "cell_type": "markdown",
   "metadata": {},
   "source": [
    "# --- Part Two ---\n",
    "\n",
    "You just finish implementing your winning light pattern when you realize you mistranslated Santa's message from Ancient Nordic Elvish.\n",
    "\n",
    "The light grid you bought actually has individual brightness controls; each light can have a brightness of zero or more. The lights all start at zero.\n",
    "\n",
    "The phrase turn on actually means that you should increase the brightness of those lights by 1.\n",
    "\n",
    "The phrase turn off actually means that you should decrease the brightness of those lights by 1, to a minimum of zero.\n",
    "\n",
    "The phrase toggle actually means that you should increase the brightness of those lights by 2.\n",
    "\n",
    "What is the total brightness of all lights combined after following Santa's instructions?\n",
    "\n",
    "For example:\n",
    "\n",
    "turn on 0,0 through 0,0 would increase the total brightness by 1.\n",
    "\n",
    "toggle 0,0 through 999,999 would increase the total brightness by 2000000."
   ]
  },
  {
   "cell_type": "code",
   "execution_count": 3,
   "metadata": {},
   "outputs": [
    {
     "name": "stdout",
     "output_type": "stream",
     "text": [
      "14687245\n"
     ]
    }
   ],
   "source": [
    "import collections\n",
    "\n",
    "def day06part2(data):\n",
    "    rules = data.split(\"\\n\")\n",
    "    grid = collections.defaultdict(lambda: collections.defaultdict(int))\n",
    "    for i in rules:\n",
    "        coords = i.split(\",\")\n",
    "        x1 = int(coords[0].split(\" \")[-1])\n",
    "        y1 = int(coords[1].split(\" \")[0])\n",
    "        x2 = int(coords[1].split(\" \")[-1])\n",
    "        y2 = int(coords[2].split(\" \")[0])\n",
    "        x1, x2 = sorted([x1, x2])\n",
    "        y1, y2 = sorted([y1, y2])\n",
    "        for x in range(x1, x2+1):\n",
    "            for y in range(y1, y2+1):\n",
    "                if \"turn on\" in i:\n",
    "                    grid[x][y] += 1\n",
    "                if \"turn off\" in i:\n",
    "                    grid[x][y] = max(grid[x][y] - 1, 0)\n",
    "                if \"toggle\" in i:\n",
    "                    grid[x][y] += 2\n",
    "    return sum([sum(i.values()) for i in grid.values()])\n",
    "\n",
    "print(day06part2(open(\"2015-06.txt\").read()))"
   ]
  }
 ],
 "metadata": {
  "kernelspec": {
   "display_name": "Python 3",
   "language": "python",
   "name": "python3"
  },
  "language_info": {
   "codemirror_mode": {
    "name": "ipython",
    "version": 3
   },
   "file_extension": ".py",
   "mimetype": "text/x-python",
   "name": "python",
   "nbconvert_exporter": "python",
   "pygments_lexer": "ipython3",
   "version": "3.11.0"
  },
  "orig_nbformat": 4
 },
 "nbformat": 4,
 "nbformat_minor": 2
}
