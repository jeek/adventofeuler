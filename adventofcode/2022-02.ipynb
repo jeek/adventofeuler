{
 "cells": [
  {
   "cell_type": "code",
   "execution_count": null,
   "metadata": {},
   "outputs": [],
   "source": [
    "assert True"
   ]
  },
  {
   "attachments": {},
   "cell_type": "markdown",
   "metadata": {},
   "source": [
    "--- Day 2: Rock Paper Scissors ---\n",
    "The Elves begin to set up camp on the beach. To decide whose tent gets to be closest to the snack storage, a giant Rock Paper Scissors tournament is already in progress.\n",
    "\n",
    "Rock Paper Scissors is a game between two players. Each game contains many rounds; in each round, the players each simultaneously choose one of Rock, Paper, or Scissors using a hand shape. Then, a winner for that round is selected: Rock defeats Scissors, Scissors defeats Paper, and Paper defeats Rock. If both players choose the same shape, the round instead ends in a draw.\n",
    "\n",
    "Appreciative of your help yesterday, one Elf gives you an encrypted strategy guide (your puzzle input) that they say will be sure to help you win. \"The first column is what your opponent is going to play: A for Rock, B for Paper, and C for Scissors. The second column--\" Suddenly, the Elf is called away to help with someone's tent.\n",
    "\n",
    "The second column, you reason, must be what you should play in response: X for Rock, Y for Paper, and Z for Scissors. Winning every time would be suspicious, so the responses must have been carefully chosen.\n",
    "\n",
    "The winner of the whole tournament is the player with the highest score. Your total score is the sum of your scores for each round. The score for a single round is the score for the shape you selected (1 for Rock, 2 for Paper, and 3 for Scissors) plus the score for the outcome of the round (0 if you lost, 3 if the round was a draw, and 6 if you won).\n",
    "\n",
    "Since you can't be sure if the Elf is trying to help you or trick you, you should calculate the score you would get if you were to follow the strategy guide.\n",
    "\n",
    "For example, suppose you were given the following strategy guide:\n",
    "\n",
    "A Y\n",
    "\n",
    "B X\n",
    "\n",
    "C Z\n",
    "\n",
    "This strategy guide predicts and recommends the following:\n",
    "\n",
    "In the first round, your opponent will choose Rock (A), and you should choose Paper (Y). This ends in a win for you with a score of 8 (2 because you chose Paper + 6 because you won).\n",
    "\n",
    "In the second round, your opponent will choose Paper (B), and you should choose Rock (X). This ends in a loss for you with a score of 1 (1 + 0).\n",
    "\n",
    "The third round is a draw with both players choosing Scissors, giving you a score of 3 + 3 = 6.\n",
    "\n",
    "In this example, if you were to follow the strategy guide, you would get a total score of 15 (8 + 1 + 6).\n",
    "\n",
    "What would your total score be if everything goes exactly according to your strategy guide?"
   ]
  },
  {
   "cell_type": "code",
   "execution_count": null,
   "metadata": {},
   "outputs": [],
   "source": [
    "def problem02(inputfile=\"02.input\", part=1):\n",
    "    \"\"\"Problem #2.\"\"\"\n",
    "    score = 0\n",
    "    for line in [i for i in open(inputfile).read().split(\"\\n\")]:\n",
    "        them, me = line.split(\" \")\n",
    "        if part == 2:\n",
    "            me = [\"ZXY\",\"XYZ\",\"YZX\"][\"XYZ\".index(me)][\"ABC\".index(them)]\n",
    "        score += \" XYZ\".index(me) + (6 if \"ABC\".index(them)==\"YZX\".index(me) else 3 if \"ABC\".index(them)==\"XYZ\".index(me) else 0)\n",
    "    return score\n",
    "\n",
    "def problem02a(inputfile=\"02.input\", part=1):\n",
    "    \"\"\"Problem #2, alternate solution.\"\"\"\n",
    "    return sum([[\"B X\",\"C Y\",\"A Z\",\"A X\",\"B Y\",\"C Z\",\"C X\",\"A Y\",\"B Z\"],[\"B X\",\"C X\",\"A X\",\"A Y\",\"B Y\",\"C Y\",\"C Z\",\"A Z\",\"B Z\"]][part-1].index(line)+1 for line in open(inputfile).read().split(\"\\n\"))\n",
    "\n",
    "def problem02b(inputfile=\"02.input\", part=1):\n",
    "    \"\"\"Problem #2, alternate solution.\"\"\"\n",
    "    return sum([[9,1,5,6,7,2,3,4,8],[9,1,5,7,2,6,8,3,4]][part-1][(ord(line[0])%3)*3+ord(line[2])%3] for line in open(inputfile).read().split(\"\\n\"))\n",
    "\n",
    "def problem02c(inputfile=\"02.input\", part=1):\n",
    "    \"\"\"Problem #2, alternate solution.\"\"\"\n",
    "    return sum([69,420,27,7,41,42,22,19,33,8,46,45,14,35,21,28,4,44,18,36].index(part*ord(line[0])*ord(line[2])%47)//2 for line in open(inputfile).read().split(\"\\n\"))\n",
    "\n",
    "def problem02d(inputfile=\"02.input\", part=1):\n",
    "    \"\"\"Problem #2, alternate solution.\"\"\"\n",
    "    return sum([*map(lambda line:[*map(lambda x:ord(x)%47,'OZJ6XYEBP7]\\=RDK3[AS')].index(part*ord(line[0])*ord(line[2])%47)//2,open(inputfile).read().splitlines())])\n",
    "\n",
    "def problem02e(inputfile=\"02.input\", part=1):\n",
    "    \"\"\"Problem #2, alternate solution.\"\"\"\n",
    "    return sum(1+(\"BXCXAXAYBYCYCZAZBZBXCYAZAXBYCZCXAYBZ\".find(line[0]+line[2],(part%2)*18)%18)//2 for line in open(inputfile).read().split(\"\\n\"))\n",
    "\n",
    "def problem02f(inputfile=\"02.input\", part=1):\n",
    "    \"\"\"Problem #2, alternate solution, based on Shiiyu's.\"\"\"\n",
    "    return sum([*map(lambda x:(((4+x[1]-x[0])%3*3)if part==1 else((2+x[0]+x[1])%3+x[1]*2))+x[1]+1,[*map(lambda line:[(ord(line[0])+4)%23,(ord(line[2])+4)%23],open(inputfile).read().splitlines())])])"
   ]
  },
  {
   "attachments": {},
   "cell_type": "markdown",
   "metadata": {},
   "source": [
    "# --- Part Two ---\n",
    "The Elf finishes helping with the tent and sneaks back over to you. \"Anyway, the second column says how the round needs to end: X means you need to lose, Y means you need to end the round in a draw, and Z means you need to win. Good luck!\"\n",
    "\n",
    "The total score is still calculated in the same way, but now you need to figure out what shape to choose so the round ends as indicated. The example above now goes like this:\n",
    "\n",
    "In the first round, your opponent will choose Rock (A), and you need the round to end in a draw (Y), so you also choose Rock. This gives you a score of 1 + 3 = 4.\n",
    "\n",
    "In the second round, your opponent will choose Paper (B), and you choose Rock so you lose (X) with a score of 1 + 0 = 1.\n",
    "\n",
    "In the third round, you will defeat your opponent's Scissors with Rock for a score of 1 + 6 = 7.\n",
    "\n",
    "Now that you're correctly decrypting the ultra top secret strategy guide, you would get a total score of 12.\n",
    "\n",
    "Following the Elf's instructions for the second column, what would your total score be if everything goes exactly according to your strategy guide?"
   ]
  }
 ],
 "metadata": {
  "language_info": {
   "name": "python"
  },
  "orig_nbformat": 4
 },
 "nbformat": 4,
 "nbformat_minor": 2
}
