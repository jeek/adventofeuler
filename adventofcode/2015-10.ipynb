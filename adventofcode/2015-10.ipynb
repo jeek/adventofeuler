{
 "cells": [
  {
   "cell_type": "code",
   "execution_count": 9,
   "metadata": {},
   "outputs": [],
   "source": [
    "assert True"
   ]
  },
  {
   "attachments": {},
   "cell_type": "markdown",
   "metadata": {},
   "source": [
    "# --- Day 10: Elves Look, Elves Say ---\n",
    "\n",
    "Today, the Elves are playing a game called look-and-say. They take turns making sequences by reading aloud the previous sequence and using that reading as the next sequence. For example, 211 is read as \"one two, two ones\", which becomes 1221 (1 2, 2 1s).\n",
    "\n",
    "Look-and-say sequences are generated iteratively, using the previous value as input for the next step. For each step, take the previous value, and replace each run of digits (like 111) with the number of digits (3) followed by the digit itself (1).\n",
    "\n",
    "For example:\n",
    "\n",
    "1 becomes 11 (1 copy of digit 1).\n",
    "\n",
    "11 becomes 21 (2 copies of digit 1).\n",
    "\n",
    "21 becomes 1211 (one 2 followed by one 1).\n",
    "\n",
    "1211 becomes 111221 (one 1, one 2, and two 1s).\n",
    "\n",
    "111221 becomes 312211 (three 1s, two 2s, and one 1).\n",
    "\n",
    "Starting with the digits in your puzzle input, apply this process 40 times. What is the length of the result?"
   ]
  },
  {
   "cell_type": "code",
   "execution_count": 10,
   "metadata": {},
   "outputs": [
    {
     "name": "stdout",
     "output_type": "stream",
     "text": [
      "329356\n"
     ]
    }
   ],
   "source": [
    "def lookandsay(word):\n",
    "    current = next(word)\n",
    "    cc = 1\n",
    "    for i in word:\n",
    "        newcur = i\n",
    "        if newcur == current:\n",
    "            cc += 1\n",
    "        else:\n",
    "            yield cc\n",
    "            yield current\n",
    "            current = newcur\n",
    "            cc = 1\n",
    "    yield cc\n",
    "    yield current\n",
    "\n",
    "def day10part1(data):\n",
    "    data = iter([int(i) for i in data])\n",
    "    for i in range(40):\n",
    "        data = lookandsay(data)\n",
    "    return len(list(data))\n",
    "\n",
    "assert list(lookandsay(iter([1]))) == [1,1], \"Bad test data\"\n",
    "assert list(lookandsay(iter([1,1]))) == [2,1], \"Bad test data\"\n",
    "assert list(lookandsay(iter([2,1]))) == [1,2,1,1], \"Bad test data\"\n",
    "assert list(lookandsay(iter([1,2,1,1]))) == [1,1,1,2,2,1], \"Bad test data\"\n",
    "assert list(lookandsay(iter([1,1,1,2,2,1]))) == [3,1,2,2,1,1], \"Bad test data\"\n",
    "print(day10part1(open(\"2015-10.txt\").read()))"
   ]
  },
  {
   "attachments": {},
   "cell_type": "markdown",
   "metadata": {},
   "source": [
    "# --- Part Two ---\n",
    "\n",
    "Neat, right? You might also enjoy hearing John Conway talking about this sequence (that's Conway of Conway's Game of Life fame).\n",
    "\n",
    "Now, starting again with the digits in your puzzle input, apply this process 50 times. What is the length of the new result?"
   ]
  },
  {
   "cell_type": "code",
   "execution_count": 11,
   "metadata": {},
   "outputs": [
    {
     "name": "stdout",
     "output_type": "stream",
     "text": [
      "4666278\n"
     ]
    }
   ],
   "source": [
    "def lookandsay(word):\n",
    "    current = next(word)\n",
    "    cc = 1\n",
    "    for i in word:\n",
    "        newcur = i\n",
    "        if newcur == current:\n",
    "            cc += 1\n",
    "        else:\n",
    "            yield cc\n",
    "            yield current\n",
    "            current = newcur\n",
    "            cc = 1\n",
    "    yield cc\n",
    "    yield current\n",
    "\n",
    "def day10part2(data):\n",
    "    data = iter([int(i) for i in data])\n",
    "    for i in range(50):\n",
    "        data = lookandsay(data)\n",
    "    return len(list(data))\n",
    "\n",
    "print(day10part2(open(\"2015-10.txt\").read()))"
   ]
  }
 ],
 "metadata": {
  "kernelspec": {
   "display_name": "Python 3",
   "language": "python",
   "name": "python3"
  },
  "language_info": {
   "codemirror_mode": {
    "name": "ipython",
    "version": 3
   },
   "file_extension": ".py",
   "mimetype": "text/x-python",
   "name": "python",
   "nbconvert_exporter": "python",
   "pygments_lexer": "ipython3",
   "version": "3.11.0"
  },
  "orig_nbformat": 4
 },
 "nbformat": 4,
 "nbformat_minor": 2
}
