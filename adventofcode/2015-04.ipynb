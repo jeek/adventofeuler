{
 "cells": [
  {
   "cell_type": "code",
   "execution_count": 1,
   "metadata": {},
   "outputs": [],
   "source": [
    "assert True"
   ]
  },
  {
   "attachments": {},
   "cell_type": "markdown",
   "metadata": {},
   "source": [
    "# Day 4\n",
    "\n",
    "--- Day 4: The Ideal Stocking Stuffer ---\n",
    "Santa needs help mining some AdventCoins (very similar to bitcoins) to use as gifts for all the economically forward-thinking little girls and boys.\n",
    "\n",
    "To do this, he needs to find MD5 hashes which, in hexadecimal, start with at least five zeroes. The input to the MD5 hash is some secret key (your puzzle input, given below) followed by a number in decimal. To mine AdventCoins, you must find Santa the lowest positive number (no leading zeroes: 1, 2, 3, ...) that produces such a hash.\n",
    "\n",
    "For example:\n",
    "\n",
    "If your secret key is abcdef, the answer is 609043, because the MD5 hash of abcdef609043 starts with five zeroes (000001dbbfa...), and it is the lowest such number to do so.\n",
    "\n",
    "If your secret key is pqrstuv, the lowest number it combines with to make an MD5 hash starting with five zeroes is 1048970; that is, the MD5 hash of pqrstuv1048970 looks like 000006136ef...."
   ]
  },
  {
   "cell_type": "code",
   "execution_count": 2,
   "metadata": {},
   "outputs": [
    {
     "name": "stdout",
     "output_type": "stream",
     "text": [
      "282749\n"
     ]
    }
   ],
   "source": [
    "import hashlib\n",
    "\n",
    "def day04part1(data):\n",
    "    i = 0\n",
    "    done = False\n",
    "    while not done:\n",
    "        m = hashlib.md5()\n",
    "        m.update(data.encode('utf-8'))\n",
    "        m.update(str(i).encode('utf-8'))\n",
    "        if m.hexdigest()[:5] == '00000':\n",
    "            return i\n",
    "        i += 1\n",
    "\n",
    "assert day04part1(\"abcdef\") == 609043, \"Bad test data\"\n",
    "assert day04part1(\"pqrstuv\") == 1048970, \"Bad test data\"\n",
    "print(day04part1(open(\"2015-04.txt\", 'r').read()))"
   ]
  },
  {
   "attachments": {},
   "cell_type": "markdown",
   "metadata": {},
   "source": [
    "# --- Part Two ---\n",
    "\n",
    "Now find one that starts with six zeroes."
   ]
  },
  {
   "cell_type": "code",
   "execution_count": 3,
   "metadata": {},
   "outputs": [
    {
     "name": "stdout",
     "output_type": "stream",
     "text": [
      "9962624\n"
     ]
    }
   ],
   "source": [
    "import hashlib\n",
    "\n",
    "def day04part2(data):\n",
    "    i = 0\n",
    "    done = False\n",
    "    while not done:\n",
    "        m = hashlib.md5()\n",
    "        m.update(data.encode('utf-8'))\n",
    "        m.update(str(i).encode('utf-8'))\n",
    "        if m.hexdigest()[:6] == '000000':\n",
    "            return i\n",
    "        i += 1\n",
    "\n",
    "print(day04part2(open(\"2015-04.txt\", 'r').read()))"
   ]
  }
 ],
 "metadata": {
  "kernelspec": {
   "display_name": "Python 3",
   "language": "python",
   "name": "python3"
  },
  "language_info": {
   "codemirror_mode": {
    "name": "ipython",
    "version": 3
   },
   "file_extension": ".py",
   "mimetype": "text/x-python",
   "name": "python",
   "nbconvert_exporter": "python",
   "pygments_lexer": "ipython3",
   "version": "3.11.0"
  },
  "orig_nbformat": 4
 },
 "nbformat": 4,
 "nbformat_minor": 2
}
