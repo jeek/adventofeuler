{
 "cells": [
  {
   "cell_type": "code",
   "execution_count": 1,
   "metadata": {},
   "outputs": [],
   "source": [
    "assert True"
   ]
  },
  {
   "attachments": {},
   "cell_type": "markdown",
   "metadata": {},
   "source": [
    "# Day 3\n",
    "\n",
    "--- Day 3: Perfectly Spherical Houses in a Vacuum ---\n",
    "\n",
    "Santa is delivering presents to an infinite two-dimensional grid of houses.\n",
    "\n",
    "He begins by delivering a present to the house at his starting location, and then an elf at the North Pole calls him via radio and tells him where to move next. Moves are always exactly one house to the north (^), south (v), east (>), or west (<). After each move, he delivers another present to the house at his new location.\n",
    "\n",
    "However, the elf back at the north pole has had a little too much eggnog, and so his directions are a little off, and Santa ends up visiting some houses more than once. How many houses receive at least one present?\n",
    "\n",
    "For example:\n",
    "\n",
    "\\> delivers presents to 2 houses: one at the starting location, and one to the east.\n",
    "\n",
    "^>v< delivers presents to 4 houses in a square, including twice to the house at his starting/ending location.\n",
    "\n",
    "^v^v^v^v^v delivers a bunch of presents to some very lucky children at only 2 houses."
   ]
  },
  {
   "cell_type": "code",
   "execution_count": 2,
   "metadata": {},
   "outputs": [
    {
     "name": "stdout",
     "output_type": "stream",
     "text": [
      "2592\n"
     ]
    }
   ],
   "source": [
    "import collections\n",
    "\n",
    "def day03part1(data):\n",
    "    x, y = 0, 0\n",
    "    rx, ry = 0, 0\n",
    "    giftmap = collections.defaultdict(lambda: 0)\n",
    "    giftmap[\"0,0\"] = 1\n",
    "    j = 0\n",
    "    while j < len(data):\n",
    "        i = data[j]\n",
    "        if i == \">\":\n",
    "            y += 1\n",
    "        if i == \"<\":\n",
    "            y -= 1\n",
    "        if i == \"^\":\n",
    "            x += 1\n",
    "        if i == \"v\":\n",
    "            x -= 1\n",
    "        giftmap[str(x)+\",\"+str(y)] += 1\n",
    "        j += 1\n",
    "    return len(giftmap.keys())\n",
    "\n",
    "assert day03part1(\">\") == 2, \"Bad test data\"\n",
    "assert day03part1(\"^>v<\") == 4, \"Bad test data\"\n",
    "assert day03part1(\"^v^v^v^v^v\") == 2, \"Bad test data\"\n",
    "print(day03part1(open(\"2015-03.txt\").read()))"
   ]
  },
  {
   "attachments": {},
   "cell_type": "markdown",
   "metadata": {},
   "source": [
    "# --- Part Two ---\n",
    "The next year, to speed up the process, Santa creates a robot version of himself, Robo-Santa, to deliver presents with him.\n",
    "\n",
    "Santa and Robo-Santa start at the same location (delivering two presents to the same starting house), then take turns moving based on instructions from the elf, who is eggnoggedly reading from the same script as the previous year.\n",
    "\n",
    "This year, how many houses receive at least one present?\n",
    "\n",
    "For example:\n",
    "\n",
    "^v delivers presents to 3 houses, because Santa goes north, and then Robo-Santa goes south.\n",
    "\n",
    "^>v< now delivers presents to 3 houses, and Santa and Robo-Santa end up back where they started.\n",
    "\n",
    "^v^v^v^v^v now delivers presents to 11 houses, with Santa going one direction and Robo-Santa going the other."
   ]
  },
  {
   "cell_type": "code",
   "execution_count": 3,
   "metadata": {},
   "outputs": [
    {
     "name": "stdout",
     "output_type": "stream",
     "text": [
      "2360\n"
     ]
    }
   ],
   "source": [
    "import collections\n",
    "\n",
    "def day03part2(data):\n",
    "    x, y = 0, 0\n",
    "    rx, ry = 0, 0\n",
    "    giftmap = collections.defaultdict(lambda: 0)\n",
    "    giftmap[\"0,0\"] = 1\n",
    "    j = 0\n",
    "    while j < len(data):\n",
    "        i = data[j]\n",
    "        if i == \">\":\n",
    "            y += 1\n",
    "        if i == \"<\":\n",
    "            y -= 1\n",
    "        if i == \"^\":\n",
    "            x += 1\n",
    "        if i == \"v\":\n",
    "            x -= 1\n",
    "        giftmap[str(x)+\",\"+str(y)] += 1\n",
    "        if j + 1 < len(data):\n",
    "            i = data[j+1]\n",
    "            if i == \">\":\n",
    "                ry += 1\n",
    "            if i == \"<\":\n",
    "                ry -= 1\n",
    "            if i == \"^\":\n",
    "                rx += 1\n",
    "            if i == \"v\":\n",
    "                rx -= 1\n",
    "            giftmap[str(rx)+\",\"+str(ry)] += 1\n",
    "        j += 2\n",
    "    return len(giftmap.keys())\n",
    "\n",
    "assert day03part2(\"^v\") == 3, \"Bad test data\"\n",
    "assert day03part2(\"^>v<\") == 3, \"Bad test data\"\n",
    "assert day03part2(\"^v^v^v^v^v\") == 11, \"Bad test data\"\n",
    "print(day03part2(open(\"2015-03.txt\").read()))"
   ]
  }
 ],
 "metadata": {
  "kernelspec": {
   "display_name": "Python 3",
   "language": "python",
   "name": "python3"
  },
  "language_info": {
   "codemirror_mode": {
    "name": "ipython",
    "version": 3
   },
   "file_extension": ".py",
   "mimetype": "text/x-python",
   "name": "python",
   "nbconvert_exporter": "python",
   "pygments_lexer": "ipython3",
   "version": "3.11.0"
  },
  "orig_nbformat": 4
 },
 "nbformat": 4,
 "nbformat_minor": 2
}
