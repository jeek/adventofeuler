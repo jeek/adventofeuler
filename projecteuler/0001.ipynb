{
 "cells": [
  {
   "cell_type": "code",
   "execution_count": 1,
   "metadata": {},
   "outputs": [],
   "source": [
    "import math"
   ]
  },
  {
   "attachments": {},
   "cell_type": "markdown",
   "metadata": {},
   "source": [
    "# Problem #1\n",
    "\n",
    "If we list all the natural numbers below 10 that are multiples of 3 or 5, we get 3, 5, 6 and 9. The sum of these multiples is 23.\n",
    "\n",
    "Find the sum of all the multiples of 3 or 5 below 1000."
   ]
  },
  {
   "cell_type": "code",
   "execution_count": 2,
   "metadata": {},
   "outputs": [],
   "source": [
    "def problem001(maximum):\n",
    "    return sum(i for i in range(maximum) if i % 3 == 0 or i % 5 == 0)\n",
    "\n",
    "assert problem001(10) == 23, \"Problem #1 incorrect with test data\"\n",
    "assert problem001(1000) == 233168, \"Problem #1 incorrect with real data\""
   ]
  },
  {
   "attachments": {},
   "cell_type": "markdown",
   "metadata": {},
   "source": [
    "This second approach abuses Gauss's method of adding series to reduce the code complexity to O(1).\n",
    "\n",
    "https://brilliant.org/wiki/gauss-the-prince-of-mathematics/"
   ]
  },
  {
   "cell_type": "code",
   "execution_count": 3,
   "metadata": {},
   "outputs": [],
   "source": [
    "def problem001b(maximum):\n",
    "    return math.floor((maximum-1)/3)*(1+math.floor((maximum-1)/3))/2*3+math.floor((maximum-1)/5)*(1+math.floor((maximum-1)/5))/2*5-math.floor((maximum-1)/15)*(1+math.floor((maximum-1)/15))/2*15\n",
    "\n",
    "assert problem001b(10) == 23, \"Problem #1 incorrect with test data\"\n",
    "assert problem001b(1000) == 233168, \"Problem #1 incorrect with real data\""
   ]
  }
 ],
 "metadata": {
  "kernelspec": {
   "display_name": "Python 3",
   "language": "python",
   "name": "python3"
  },
  "language_info": {
   "codemirror_mode": {
    "name": "ipython",
    "version": 3
   },
   "file_extension": ".py",
   "mimetype": "text/x-python",
   "name": "python",
   "nbconvert_exporter": "python",
   "pygments_lexer": "ipython3",
   "version": "3.11.0"
  },
  "orig_nbformat": 4
 },
 "nbformat": 4,
 "nbformat_minor": 2
}
