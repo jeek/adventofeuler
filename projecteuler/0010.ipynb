{
 "cells": [
  {
   "cell_type": "code",
   "execution_count": 1,
   "metadata": {},
   "outputs": [],
   "source": [
    "import math"
   ]
  },
  {
   "attachments": {},
   "cell_type": "markdown",
   "metadata": {},
   "source": [
    "# Problem #10\n",
    "\n",
    "The sum of the primes below 10 is 2 + 3 + 5 + 7 = 17.\n",
    "\n",
    "Find the sum of all the primes below two million."
   ]
  },
  {
   "cell_type": "code",
   "execution_count": 2,
   "metadata": {},
   "outputs": [],
   "source": [
    "def prime_gen(argument):\n",
    "    numbers = list(range(argument))\n",
    "    numbers[0] = 0\n",
    "    numbers[1] = 0\n",
    "    for i in range(math.ceil(len(numbers)**.5)):\n",
    "        if numbers[i] > 0:\n",
    "            for j in range(i * i, len(numbers), i):\n",
    "                numbers[j] = 0\n",
    "    return list(filter(lambda x: x!=0, numbers))\n",
    "\n",
    "def problem010(argument):\n",
    "    return sum(prime_gen(argument))\n",
    "\n",
    "assert problem010(10) == 17, \"Test case for problem #10 is incorrect\"\n",
    "assert problem010(2000000) == 142913828922, \"Solution for problem #10 is incorrect\""
   ]
  }
 ],
 "metadata": {
  "kernelspec": {
   "display_name": "Python 3",
   "language": "python",
   "name": "python3"
  },
  "language_info": {
   "codemirror_mode": {
    "name": "ipython",
    "version": 3
   },
   "file_extension": ".py",
   "mimetype": "text/x-python",
   "name": "python",
   "nbconvert_exporter": "python",
   "pygments_lexer": "ipython3",
   "version": "3.11.0"
  },
  "orig_nbformat": 4
 },
 "nbformat": 4,
 "nbformat_minor": 2
}
