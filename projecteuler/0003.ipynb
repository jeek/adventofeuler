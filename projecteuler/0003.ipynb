{
 "cells": [
  {
   "cell_type": "code",
   "execution_count": 1,
   "metadata": {},
   "outputs": [],
   "source": [
    "assert True"
   ]
  },
  {
   "attachments": {},
   "cell_type": "markdown",
   "metadata": {},
   "source": [
    "# Problem #3\n",
    "\n",
    "The prime factors of 13195 are 5, 7, 13 and 29.\n",
    "\n",
    "What is the largest prime factor of the number 600851475143 ?"
   ]
  },
  {
   "cell_type": "code",
   "execution_count": 2,
   "metadata": {},
   "outputs": [],
   "source": [
    "def factor(i):\n",
    "    answer = []\n",
    "    j = 2\n",
    "    while i > 1:\n",
    "        while i % j == 0:\n",
    "            answer.append(j)\n",
    "            i /= j\n",
    "        j += 1\n",
    "    return answer\n",
    "\n",
    "def problem003(maximum):\n",
    "    return max(factor(maximum))\n",
    "\n",
    "assert factor(13195) == [5, 7, 13, 29], \"factor broken in #3\"\n",
    "assert problem003(600851475143) == 6857, \"Solution incorrect for #3\""
   ]
  }
 ],
 "metadata": {
  "kernelspec": {
   "display_name": "Python 3",
   "language": "python",
   "name": "python3"
  },
  "language_info": {
   "codemirror_mode": {
    "name": "ipython",
    "version": 3
   },
   "file_extension": ".py",
   "mimetype": "text/x-python",
   "name": "python",
   "nbconvert_exporter": "python",
   "pygments_lexer": "ipython3",
   "version": "3.11.0"
  },
  "orig_nbformat": 4
 },
 "nbformat": 4,
 "nbformat_minor": 2
}
