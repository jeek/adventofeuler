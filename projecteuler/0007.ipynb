{
 "cells": [
  {
   "cell_type": "code",
   "execution_count": 1,
   "metadata": {},
   "outputs": [],
   "source": [
    "import math"
   ]
  },
  {
   "attachments": {},
   "cell_type": "markdown",
   "metadata": {},
   "source": [
    "# Problem #7\n",
    "\n",
    "By listing the first six prime numbers: 2, 3, 5, 7, 11, and 13, we can see that the 6th prime is 13.\n",
    "\n",
    "What is the 10 001st prime number?"
   ]
  },
  {
   "cell_type": "code",
   "execution_count": 2,
   "metadata": {},
   "outputs": [],
   "source": [
    "def prime_gen(length):\n",
    "    primes = [2]\n",
    "    i = 2\n",
    "    while len(primes) <= length:\n",
    "        i += 1\n",
    "        if list(i % j for j in primes).count(0) == 0:\n",
    "            primes.append(i)\n",
    "    return primes\n",
    "\n",
    "def problem007(argument):\n",
    "    return list(prime_gen(argument))[argument-1]\n",
    "\n",
    "assert problem007(6) == 13, \"Test case incorrect for #7\"\n",
    "assert problem007(10001) == 104743, \"Solution incorrect for #7\""
   ]
  },
  {
   "attachments": {},
   "cell_type": "markdown",
   "metadata": {},
   "source": [
    "via naive reduction of the list of numbers based on the prime in the first element..."
   ]
  },
  {
   "cell_type": "code",
   "execution_count": 3,
   "metadata": {},
   "outputs": [],
   "source": [
    "def problem007b(argument):\n",
    "    numbers = list(range(2, math.ceil(argument*math.pi**math.pi)))\n",
    "    for i in range(argument-1):\n",
    "        numbers = [j for j in numbers if j % numbers[0] != 0]\n",
    "    return numbers[0]\n",
    "\n",
    "assert problem007b(6) == 13, \"Test case incorrect for #7b\"\n",
    "assert problem007b(10001) == 104743, \"Solution incorrect for #7b\""
   ]
  },
  {
   "attachments": {},
   "cell_type": "markdown",
   "metadata": {},
   "source": [
    "via the Sieve of Erasthosenes..."
   ]
  },
  {
   "cell_type": "code",
   "execution_count": 4,
   "metadata": {},
   "outputs": [],
   "source": [
    "def problem007c(argument):\n",
    "    numbers = list(range(math.ceil(argument*math.pi**math.pi)))\n",
    "    numbers[0] = 0\n",
    "    numbers[1] = 0\n",
    "    for i in range(len(numbers)):\n",
    "        if numbers[i] > 0:\n",
    "            for j in range(i * i, len(numbers), i):\n",
    "                numbers[j] = 0\n",
    "    return list(filter(lambda x: x!=0, numbers))[argument-1]\n",
    "\n",
    "assert problem007c(6) == 13, \"Test case incorrect for #7c\"\n",
    "assert problem007c(10001) == 104743, \"Solution incorrect for #7c\""
   ]
  }
 ],
 "metadata": {
  "kernelspec": {
   "display_name": "Python 3",
   "language": "python",
   "name": "python3"
  },
  "language_info": {
   "codemirror_mode": {
    "name": "ipython",
    "version": 3
   },
   "file_extension": ".py",
   "mimetype": "text/x-python",
   "name": "python",
   "nbconvert_exporter": "python",
   "pygments_lexer": "ipython3",
   "version": "3.11.0"
  },
  "orig_nbformat": 4
 },
 "nbformat": 4,
 "nbformat_minor": 2
}
