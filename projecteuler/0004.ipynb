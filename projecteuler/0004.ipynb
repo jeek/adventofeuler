{
 "cells": [
  {
   "cell_type": "code",
   "execution_count": 1,
   "metadata": {},
   "outputs": [],
   "source": [
    "import itertools"
   ]
  },
  {
   "attachments": {},
   "cell_type": "markdown",
   "metadata": {},
   "source": [
    "# Problem #4\n",
    "\n",
    "A palindromic number reads the same both ways. The largest palindrome made from the product of two 2-digit numbers is 9009 = 91 × 99.\n",
    "\n",
    "Find the largest palindrome made from the product of two 3-digit numbers."
   ]
  },
  {
   "cell_type": "code",
   "execution_count": 2,
   "metadata": {},
   "outputs": [],
   "source": [
    "def is_palindrome(i):\n",
    "    return str(i) == str(i)[::-1]\n",
    "\n",
    "def problem004(digits=2):\n",
    "    return max(filter(lambda x: is_palindrome(x), [(y[0]*y[1]) for y in itertools.product(range(10**(digits-1),10**digits), range(10**(digits-1),10**digits))]))\n",
    "\n",
    "assert problem004(2) == 9009, \"Test case incorrect for #4\"\n",
    "assert problem004(3) == 906609, \"Solution incorrect for #4\""
   ]
  }
 ],
 "metadata": {
  "kernelspec": {
   "display_name": "Python 3",
   "language": "python",
   "name": "python3"
  },
  "language_info": {
   "codemirror_mode": {
    "name": "ipython",
    "version": 3
   },
   "file_extension": ".py",
   "mimetype": "text/x-python",
   "name": "python",
   "nbconvert_exporter": "python",
   "pygments_lexer": "ipython3",
   "version": "3.11.0"
  },
  "orig_nbformat": 4
 },
 "nbformat": 4,
 "nbformat_minor": 2
}
