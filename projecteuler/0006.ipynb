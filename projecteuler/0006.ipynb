{
 "cells": [
  {
   "cell_type": "code",
   "execution_count": 1,
   "metadata": {},
   "outputs": [],
   "source": [
    "assert True"
   ]
  },
  {
   "attachments": {},
   "cell_type": "markdown",
   "metadata": {},
   "source": [
    "# Problem #6\n",
    "\n",
    "The sum of the squares of the first ten natural numbers is,\n",
    "\n",
    "1**2 + 2 ** 2 + ... + 10 ** 2 = 385\n",
    "\n",
    "The square of the sum of the first ten natural numbers is,\n",
    "\n",
    "(1 + 2 + ... + 10) ** 2 = 55**2 = 3025\n",
    "\n",
    "Hence the difference between the sum of the squares of the first ten natural numbers and the square of the sum is 3025 - 385 = 2640.\n",
    "\n",
    "Find the difference between the sum of the squares of the first one hundred natural numbers and the square of the sum."
   ]
  },
  {
   "cell_type": "code",
   "execution_count": 2,
   "metadata": {},
   "outputs": [],
   "source": [
    "def sum_of_squares(argument):\n",
    "    return sum(i ** 2 for i in argument)\n",
    "\n",
    "def square_of_sum(argument):\n",
    "    return sum(argument)**2\n",
    "\n",
    "def problem006(argument):\n",
    "    return square_of_sum(range(1, argument+1)) - sum_of_squares(range(1, argument+1))\n",
    "\n",
    "assert problem006(10) == 2640, \"Test case incorrect for #6\"\n",
    "assert problem006(100) == 25164150, \"Solution incorrect for #6\""
   ]
  }
 ],
 "metadata": {
  "kernelspec": {
   "display_name": "Python 3",
   "language": "python",
   "name": "python3"
  },
  "language_info": {
   "codemirror_mode": {
    "name": "ipython",
    "version": 3
   },
   "file_extension": ".py",
   "mimetype": "text/x-python",
   "name": "python",
   "nbconvert_exporter": "python",
   "pygments_lexer": "ipython3",
   "version": "3.11.0"
  },
  "orig_nbformat": 4
 },
 "nbformat": 4,
 "nbformat_minor": 2
}
