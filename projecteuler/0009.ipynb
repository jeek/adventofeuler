{
 "cells": [
  {
   "cell_type": "code",
   "execution_count": 1,
   "metadata": {},
   "outputs": [],
   "source": [
    "assert True"
   ]
  },
  {
   "attachments": {},
   "cell_type": "markdown",
   "metadata": {},
   "source": [
    "# Problem #9\n",
    "\n",
    "A Pythagorean triplet is a set of three natural numbers, a < b < c, for which,\n",
    "\n",
    "a*\\*2 + b*\\*2 = c*\\*2\n",
    "For example, 3*\\*2 + 4*\\*2 = 9 + 16 = 25 = 5*\\*2.\n",
    "\n",
    "There exists exactly one Pythagorean triplet for which a + b + c = 1000.\n",
    "Find the product abc."
   ]
  },
  {
   "cell_type": "code",
   "execution_count": 2,
   "metadata": {},
   "outputs": [],
   "source": [
    "def problem009():\n",
    "    for a in range(1, 1000):\n",
    "        c = 1\n",
    "        for b in range(a + 1, 1000 - a):\n",
    "            while a ** 2 + b ** 2 > c ** 2:\n",
    "                c += 1\n",
    "            if a ** 2 + b ** 2 == c ** 2 and a + b + c == 1000:\n",
    "                return a * b * c\n",
    "\n",
    "assert problem009() == 31875000, \"Solution to #9 is incorrect.\""
   ]
  }
 ],
 "metadata": {
  "kernelspec": {
   "display_name": "Python 3",
   "language": "python",
   "name": "python3"
  },
  "language_info": {
   "codemirror_mode": {
    "name": "ipython",
    "version": 3
   },
   "file_extension": ".py",
   "mimetype": "text/x-python",
   "name": "python",
   "nbconvert_exporter": "python",
   "pygments_lexer": "ipython3",
   "version": "3.11.0"
  },
  "orig_nbformat": 4
 },
 "nbformat": 4,
 "nbformat_minor": 2
}
